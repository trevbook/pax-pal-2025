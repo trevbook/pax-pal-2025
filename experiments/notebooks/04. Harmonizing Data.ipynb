{
 "cells": [
  {
   "cell_type": "markdown",
   "metadata": {},
   "source": [
    "# **Harmonizing Data**\n",
    "\n",
    "Since there's different data between the app and the website, I'm going to try and harmoize them a bit.\n"
   ]
  },
  {
   "cell_type": "markdown",
   "metadata": {},
   "source": [
    "# Setup\n",
    "\n",
    "The cells below will help to set up the rest of the notebook.\n",
    "\n",
    "I'll start by configuring the kernel that's running this notebook:\n"
   ]
  },
  {
   "cell_type": "code",
   "execution_count": 1,
   "metadata": {},
   "outputs": [
    {
     "name": "stdout",
     "output_type": "stream",
     "text": [
      "/Users/thubbard/Documents/personal/programming/pax-pal-2025\n"
     ]
    },
    {
     "data": {
      "text/plain": [
       "True"
      ]
     },
     "execution_count": 1,
     "metadata": {},
     "output_type": "execute_result"
    }
   ],
   "source": [
    "# Change the cwd\n",
    "%cd ..\n",
    "\n",
    "# Enable the autoreload module\n",
    "%load_ext autoreload\n",
    "%autoreload 2\n",
    "\n",
    "# Load the environment variables\n",
    "from dotenv import load_dotenv\n",
    "load_dotenv(override=True)"
   ]
  },
  {
   "cell_type": "markdown",
   "metadata": {},
   "source": [
    "Next, I'm going to import the necessary modules:\n"
   ]
  },
  {
   "cell_type": "code",
   "execution_count": 2,
   "metadata": {},
   "outputs": [],
   "source": [
    "# Third-party imports\n",
    "import pandas as pd"
   ]
  },
  {
   "cell_type": "markdown",
   "metadata": {},
   "source": [
    "# Loading Data\n",
    "\n",
    "Below, I'll load in the data I scraped from both the website and the app.\n"
   ]
  },
  {
   "cell_type": "code",
   "execution_count": 3,
   "metadata": {},
   "outputs": [],
   "source": [
    "# Load all of the games / exhibitor details\n",
    "exhibitor_details_df = pd.read_json(\"data/exhibitor_details.json\")\n",
    "games_from_website_df = pd.read_json(\"data/expo_hall_demos.json\")\n",
    "games_from_app_df = pd.read_json(\"data/games_from_app.json\")\n",
    "games_from_website_more_details_df = pd.read_json(\"data/expo_hall_demos_detailed.json\")\n",
    "\n",
    "# Add title_merge_key to each dataframe\n",
    "games_from_website_df[\"title_merge_key\"] = (\n",
    "    games_from_website_df[\"name\"].str.lower().str.replace(r\"[^a-z0-9]\", \"\", regex=True)\n",
    ")\n",
    "games_from_app_df[\"title_merge_key\"] = (\n",
    "    games_from_app_df[\"title\"].str.lower().str.replace(r\"[^a-z0-9]\", \"\", regex=True)\n",
    ")\n",
    "games_from_website_more_details_df[\"title_merge_key\"] = (\n",
    "    games_from_website_more_details_df[\"name\"]\n",
    "    .str.lower()\n",
    "    .str.replace(r\"[^a-z0-9]\", \"\", regex=True)\n",
    ")\n",
    "\n",
    "games_from_website_df = games_from_website_df.merge(\n",
    "    games_from_website_more_details_df[\n",
    "        [\n",
    "            \"id\",\n",
    "            \"name\",\n",
    "            \"company\",\n",
    "            \"exhibitor_id\",\n",
    "            \"modal_description\",\n",
    "            \"title_merge_key\",\n",
    "        ]\n",
    "    ].rename(\n",
    "        columns={\n",
    "            \"modal_description\": \"description\",\n",
    "        }\n",
    "    ),\n",
    "    on=[\"id\", \"name\", \"company\", \"exhibitor_id\", \"title_merge_key\"],\n",
    "    how=\"left\",\n",
    ")"
   ]
  },
  {
   "cell_type": "markdown",
   "metadata": {},
   "source": [
    "# Determining Unique Games\n",
    "\n",
    "Next up: I'm going to determine all of the unique games:\n"
   ]
  },
  {
   "cell_type": "code",
   "execution_count": 4,
   "metadata": {},
   "outputs": [],
   "source": [
    "# Determine all of the games in the app and website\n",
    "games_from_both_app_and_website_df = games_from_app_df.merge(\n",
    "    games_from_website_df[[\"name\", \"company\", \"image_url\", \"description\", \"title_merge_key\"]].rename(\n",
    "        columns={\n",
    "            \"name\": \"fromweb_title\",\n",
    "            \"company\": \"fromweb_company\",\n",
    "            \"image_url\": \"fromweb_image_url\",\n",
    "            \"description\": \"fromweb_description\",\n",
    "        }\n",
    "    ),\n",
    "    how=\"inner\",\n",
    "    left_on=[\"title_merge_key\"],\n",
    "    right_on=[\"title_merge_key\"],\n",
    ")\n",
    "\n",
    "# Determine the games that are only in the app and only in the website\n",
    "games_from_only_app_df = games_from_app_df[\n",
    "    ~games_from_app_df[\"title_merge_key\"].isin(games_from_both_app_and_website_df[\"title_merge_key\"])\n",
    "]\n",
    "games_from_only_website_df = games_from_website_df[\n",
    "    ~games_from_website_df[\"title_merge_key\"].isin(\n",
    "        games_from_both_app_and_website_df[\"title_merge_key\"]\n",
    "    )\n",
    "]"
   ]
  },
  {
   "cell_type": "markdown",
   "metadata": {},
   "source": [
    "How many games are in each?"
   ]
  },
  {
   "cell_type": "code",
   "execution_count": 5,
   "metadata": {},
   "outputs": [
    {
     "name": "stdout",
     "output_type": "stream",
     "text": [
      "Games in both app and website: 106\n",
      "Games only in app: 46\n",
      "Games only in website: 39\n"
     ]
    }
   ],
   "source": [
    "print(f\"Games in both app and website: {len(games_from_both_app_and_website_df)}\")\n",
    "print(f\"Games only in app: {len(games_from_only_app_df)}\")\n",
    "print(f\"Games only in website: {len(games_from_only_website_df)}\")"
   ]
  },
  {
   "cell_type": "markdown",
   "metadata": {},
   "source": [
    "I can grab all of the information that I have about each game, and save it below:\n"
   ]
  },
  {
   "cell_type": "code",
   "execution_count": 6,
   "metadata": {},
   "outputs": [
    {
     "name": "stderr",
     "output_type": "stream",
     "text": [
      "/var/folders/p0/6dyp2b_d72z_d772nvm0y6tc0000gn/T/ipykernel_51730/1460144488.py:106: FutureWarning: The behavior of DataFrame concatenation with empty or all-NA entries is deprecated. In a future version, this will no longer exclude empty or all-NA columns when determining the result dtypes. To retain the old behavior, exclude the relevant entries before the concat operation.\n",
      "  unified_games_df = pd.concat(\n"
     ]
    }
   ],
   "source": [
    "# Start with the games from the app + website as a basis\n",
    "unified_games_df = games_from_both_app_and_website_df[\n",
    "    [\n",
    "        \"title\",\n",
    "        \"booth_number\",\n",
    "        \"description\",\n",
    "        \"genres\",\n",
    "        \"developer\",\n",
    "        \"release_year\",\n",
    "        \"fromweb_description\",\n",
    "        \"fromweb_company\",\n",
    "        \"fromweb_image_url\",\n",
    "    ]\n",
    "].rename(\n",
    "    columns={\n",
    "        \"description\": \"description_texts\",\n",
    "        \"fromweb_image_url\": \"header_image_url\",\n",
    "    }\n",
    ")\n",
    "# Create list of descriptions from both sources with source information\n",
    "unified_games_df[\"description_texts\"] = unified_games_df.apply(\n",
    "    lambda row: (\n",
    "        # Add descriptions from the app with source information\n",
    "        [\n",
    "            {\"source\": \"pax_app\", \"text\": text}\n",
    "            for text in (\n",
    "                row[\"description_texts\"]\n",
    "                if isinstance(row[\"description_texts\"], list)\n",
    "                else (\n",
    "                    [row[\"description_texts\"]]\n",
    "                    if pd.notna(row[\"description_texts\"])\n",
    "                    else []\n",
    "                )\n",
    "            )\n",
    "        ]\n",
    "        # Add description from the website with source information\n",
    "        + (\n",
    "            [{\"source\": \"pax_website\", \"text\": row[\"fromweb_description\"]}]\n",
    "            if pd.notna(row[\"fromweb_description\"])\n",
    "            else []\n",
    "        )\n",
    "    ),\n",
    "    axis=1,\n",
    ")\n",
    "\n",
    "# If the developer is None but fromweb_company is not, use fromweb_company\n",
    "unified_games_df[\"developer\"] = unified_games_df.apply(\n",
    "    lambda row: (\n",
    "        row[\"fromweb_company\"] if pd.notna(row[\"fromweb_company\"]) else row[\"developer\"]\n",
    "    ),\n",
    "    axis=1,\n",
    ")\n",
    "# Drop the fromweb_company column as it's no longer needed\n",
    "unified_games_df.drop(columns=[\"fromweb_company\"], inplace=True)\n",
    "\n",
    "# Prepare dataframes for concatenation to avoid FutureWarning\n",
    "app_only_games = games_from_only_app_df[\n",
    "    [\n",
    "        \"title\",\n",
    "        \"booth_number\",\n",
    "        \"description\",\n",
    "        \"genres\",\n",
    "        \"developer\",\n",
    "        \"release_year\",\n",
    "    ]\n",
    "].rename(\n",
    "    columns={\n",
    "        \"description\": \"description_texts\",\n",
    "    }\n",
    ")\n",
    "# Format description_texts as dictionaries with source information\n",
    "app_only_games[\"description_texts\"] = app_only_games[\"description_texts\"].apply(\n",
    "    lambda x: [{\"source\": \"pax_app\", \"text\": text} for text in \n",
    "              (x if isinstance(x, list) else ([x] if pd.notna(x) else []))]\n",
    ")\n",
    "# Add empty header_image_url column\n",
    "app_only_games[\"header_image_url\"] = None\n",
    "\n",
    "# Add all of the games that are only in the app\n",
    "unified_games_df = pd.concat(\n",
    "    [unified_games_df, app_only_games],\n",
    "    ignore_index=True,\n",
    ")\n",
    "\n",
    "# Prepare website-only games dataframe\n",
    "website_only_games = games_from_only_website_df[\n",
    "    [\"name\", \"company\", \"image_url\", \"description\"]\n",
    "].rename(\n",
    "    columns={\n",
    "        \"name\": \"title\",\n",
    "        \"company\": \"developer\",\n",
    "        \"image_url\": \"header_image_url\",\n",
    "        \"description\": \"description_texts\",\n",
    "    }\n",
    ")\n",
    "# Format description_texts as dictionaries with source information\n",
    "website_only_games[\"description_texts\"] = website_only_games[\"description_texts\"].apply(\n",
    "    lambda x: [{\"source\": \"pax_website\", \"text\": text} for text in \n",
    "              (x if isinstance(x, list) else ([x] if pd.notna(x) else []))]\n",
    ")\n",
    "website_only_games[\"genres\"] = [[] for _ in range(len(website_only_games))]\n",
    "website_only_games[\"release_year\"] = None\n",
    "website_only_games[\"booth_number\"] = None\n",
    "\n",
    "# Add all of the games that are only in the website\n",
    "unified_games_df = pd.concat(\n",
    "    [unified_games_df, website_only_games],\n",
    "    ignore_index=True,\n",
    ")\n",
    "\n",
    "# Cast booth_number as an integer\n",
    "unified_games_df[\"booth_number\"] = unified_games_df[\"booth_number\"].apply(\n",
    "    lambda x: int(x) if pd.notna(x) else None\n",
    ")"
   ]
  },
  {
   "cell_type": "markdown",
   "metadata": {},
   "source": [
    "How many games total are there?\n"
   ]
  },
  {
   "cell_type": "code",
   "execution_count": 7,
   "metadata": {},
   "outputs": [
    {
     "data": {
      "text/plain": [
       "191"
      ]
     },
     "execution_count": 7,
     "metadata": {},
     "output_type": "execute_result"
    }
   ],
   "source": [
    "len(unified_games_df)"
   ]
  },
  {
   "cell_type": "markdown",
   "metadata": {},
   "source": [
    "# Linking Games to Exhibitor Booths\n",
    "**WARNING: SUPER MESSY.** Did this at like 1am, pretty tired, rushing through it \n",
    "\n",
    "I'll grab the exhibitor booths first:"
   ]
  },
  {
   "cell_type": "code",
   "execution_count": 8,
   "metadata": {},
   "outputs": [],
   "source": [
    "truncated_exhibitor_details_df = (\n",
    "    exhibitor_details_df[[\"name\", \"booth\", \"description\", \"playable_games\"]]\n",
    "    .rename(\n",
    "        columns={\n",
    "            \"name\": \"exhibitor_name\",\n",
    "            \"booth\": \"booth_number\",\n",
    "            \"description\": \"exhibitor_description\",\n",
    "        }\n",
    "    )\n",
    "    .copy()\n",
    ")\n",
    "\n",
    "# If the booth numbers is a comma-separated string of numeric values, split it and keep the first one\n",
    "truncated_exhibitor_details_df[\"booth_number\"] = truncated_exhibitor_details_df[\n",
    "    \"booth_number\"\n",
    "].apply(lambda x: x.split(\",\")[0] if isinstance(x, str) and \",\" in x else x)\n",
    "\n",
    "truncated_exhibitor_details_df[\"booth_number_is_numeric\"] = (\n",
    "    truncated_exhibitor_details_df[\"booth_number\"].apply(\n",
    "        lambda x: x.isnumeric() if pd.notna(x) else False\n",
    "    )\n",
    ")\n",
    "\n",
    "# Drop those that aren't numeric, and convert to int\n",
    "truncated_exhibitor_details_df = (\n",
    "    truncated_exhibitor_details_df[\n",
    "        truncated_exhibitor_details_df[\"booth_number_is_numeric\"]\n",
    "    ]\n",
    "    .copy()\n",
    "    .drop(columns=[\"booth_number_is_numeric\"])\n",
    ")\n",
    "truncated_exhibitor_details_df[\"booth_number\"] = truncated_exhibitor_details_df[\n",
    "    \"booth_number\"\n",
    "].apply(lambda x: int(x) if pd.notna(x) else None)\n",
    "\n",
    "# Load in the additional exhibitor info\n",
    "additional_exhibitor_info_df = (\n",
    "    pd.read_json(\"data/exhibitor_list.json\")\n",
    "    .explode(\"booths\")\n",
    "    .rename(\n",
    "        columns={\n",
    "            \"name\": \"exhibitor_name\",\n",
    "            \"booths\": \"booth_number\",\n",
    "            \"description_excerpt\": \"exhibitor_description\",\n",
    "        }\n",
    "    )\n",
    ")\n",
    "additional_exhibitor_info_df[\"playable_games\"] = [[]] * len(\n",
    "    additional_exhibitor_info_df\n",
    ")\n",
    "\n",
    "# Concatenate the additional exhibitor info with the existing exhibitor details\n",
    "truncated_exhibitor_details_df = pd.concat(\n",
    "    [\n",
    "        truncated_exhibitor_details_df,\n",
    "        additional_exhibitor_info_df[\n",
    "            [\"exhibitor_name\", \"booth_number\", \"exhibitor_description\", \"playable_games\"]\n",
    "        ],\n",
    "    ],\n",
    "    ignore_index=True,\n",
    ").drop_duplicates(\n",
    "    subset=[\"exhibitor_name\"],\n",
    "    keep=\"first\",\n",
    ")\n",
    "\n",
    "# Make the same dictionary, but using the exhibitor name as the key\n",
    "exhibitor_details_dict_by_name = {\n",
    "    row[\"exhibitor_name\"]: {\n",
    "        \"booth_number\": row[\"booth_number\"],\n",
    "        \"exhibitor_description\": row[\"exhibitor_description\"],\n",
    "        \"playable_games\": [game.get(\"name\") for game in row[\"playable_games\"]],\n",
    "    }\n",
    "    for _, row in truncated_exhibitor_details_df.iterrows()\n",
    "}\n",
    "\n",
    "# Drop duplicates\n",
    "truncated_exhibitor_details_df = truncated_exhibitor_details_df.drop_duplicates(\n",
    "    subset=[\"booth_number\"]\n",
    ")\n",
    "\n",
    "# Make a dictionary of the exhibitor details\n",
    "exhibitor_details_dict = {\n",
    "    row[\"booth_number\"]: {\n",
    "        \"exhibitor_name\": row[\"exhibitor_name\"],\n",
    "        \"exhibitor_description\": row[\"exhibitor_description\"],\n",
    "        \"playable_games\": (\n",
    "            [game.get(\"name\") for game in row[\"playable_games\"]]\n",
    "            if isinstance(row[\"playable_games\"], list)\n",
    "            else []\n",
    "        ),\n",
    "    }\n",
    "    for _, row in truncated_exhibitor_details_df.iterrows()\n",
    "}\n",
    "\n",
    "\n",
    "# Drop the playable_games column\n",
    "truncated_exhibitor_details_df = truncated_exhibitor_details_df.drop(\n",
    "    columns=[\"playable_games\"]\n",
    ")"
   ]
  },
  {
   "cell_type": "markdown",
   "metadata": {},
   "source": [
    "Now, I'll merge:"
   ]
  },
  {
   "cell_type": "code",
   "execution_count": 9,
   "metadata": {},
   "outputs": [],
   "source": [
    "unified_games_with_exhibitors_df = unified_games_df.copy().merge(\n",
    "    truncated_exhibitor_details_df,\n",
    "    how=\"left\",\n",
    "    on=\"booth_number\",\n",
    ")\n",
    "\n",
    "unified_games_with_exhibitors_df[\"different\"] = (\n",
    "    unified_games_with_exhibitors_df[\"developer\"]\n",
    "    .apply(lambda x: x.lower() if pd.notna(x) else None)\n",
    "    .ne(\n",
    "        unified_games_with_exhibitors_df[\"exhibitor_name\"].apply(\n",
    "            lambda x: x.lower() if pd.notna(x) else None\n",
    "        )\n",
    "    )\n",
    ")\n",
    "\n",
    "# For all of the games that are different, just make the exhibitor_name and exhibitor_description None\n",
    "unified_games_with_exhibitors_df[\"exhibitor_name\"] = (\n",
    "    unified_games_with_exhibitors_df.apply(\n",
    "        lambda x: None if x[\"different\"] else x[\"exhibitor_name\"],\n",
    "        axis=1,\n",
    "    )\n",
    ")\n",
    "unified_games_with_exhibitors_df[\"exhibitor_description\"] = (\n",
    "    unified_games_with_exhibitors_df.apply(\n",
    "        lambda x: None if x[\"different\"] else x[\"exhibitor_description\"],\n",
    "        axis=1,\n",
    "    )\n",
    ")\n",
    "\n",
    "# Drop the different column\n",
    "unified_games_with_exhibitors_df = unified_games_with_exhibitors_df.drop(\n",
    "    columns=[\"different\"]\n",
    ")"
   ]
  },
  {
   "cell_type": "markdown",
   "metadata": {},
   "source": [
    "I'll bring in the \"special ones\" - these are instances where the booth numbers *are* correct from the original scraping, but the name of the exhibitor *isn't* the developer. "
   ]
  },
  {
   "cell_type": "code",
   "execution_count": 10,
   "metadata": {},
   "outputs": [],
   "source": [
    "special_exhibitors_df = truncated_exhibitor_details_df[\n",
    "    truncated_exhibitor_details_df[\"booth_number\"].isin(\n",
    "        [\n",
    "            13097,\n",
    "            15031,\n",
    "            19097,\n",
    "            18114,\n",
    "            17096,\n",
    "            15035,\n",
    "            16097,\n",
    "            16109,\n",
    "            17092,\n",
    "            21097,\n",
    "            18104,\n",
    "            14085,\n",
    "            18098,\n",
    "            21087,\n",
    "        ]\n",
    "    )\n",
    "]\n",
    "\n",
    "# Rename booth 13097 to \"Pax Rising Showcase\", and make the exhibitor_description \"A collection of indie games PAX Rising is showcasing.\"\n",
    "special_exhibitors_df.loc[\n",
    "    special_exhibitors_df[\"booth_number\"] == 13097, \"exhibitor_name\"\n",
    "] = \"PAX Rising Showcase\"\n",
    "special_exhibitors_df.loc[\n",
    "    special_exhibitors_df[\"booth_number\"] == 13097, \"exhibitor_description\"\n",
    "] = \"A collection of indie games PAX Rising is showcasing.\"\n",
    "\n",
    "# Make the special_exhibitors_df into a dictionary\n",
    "special_exhibitors_dict = special_exhibitors_df.set_index(\"booth_number\").T.to_dict(\n",
    "    \"records\"\n",
    ")[0]\n",
    "\n",
    "# Add the special exhibitors to the unified games with exhibitors dataframe\n",
    "unified_games_with_exhibitors_df[\"exhibitor_name\"] = (\n",
    "    unified_games_with_exhibitors_df.apply(\n",
    "        lambda x: (\n",
    "            special_exhibitors_dict[x[\"booth_number\"]]\n",
    "            if x[\"booth_number\"] in special_exhibitors_dict\n",
    "            else x[\"exhibitor_name\"]\n",
    "        ),\n",
    "        axis=1,\n",
    "    )\n",
    ")\n",
    "unified_games_with_exhibitors_df[\"exhibitor_description\"] = (\n",
    "    unified_games_with_exhibitors_df.apply(\n",
    "        lambda x: (\n",
    "            special_exhibitors_dict[x[\"booth_number\"]]\n",
    "            if x[\"booth_number\"] in special_exhibitors_dict\n",
    "            else x[\"exhibitor_description\"]\n",
    "        ),\n",
    "        axis=1,\n",
    "    )\n",
    ")"
   ]
  },
  {
   "cell_type": "markdown",
   "metadata": {},
   "source": [
    "Next up, we'll try and match on the names of the exhibitors:"
   ]
  },
  {
   "cell_type": "code",
   "execution_count": 11,
   "metadata": {},
   "outputs": [],
   "source": [
    "unified_games_with_exhibitors_df_rows = []\n",
    "for row in unified_games_with_exhibitors_df.itertuples():\n",
    "    row_dict = row._asdict()\n",
    "    # Remove the Index key from the dictionary\n",
    "    row_dict.pop(\"Index\", None)\n",
    "\n",
    "    if not pd.isna(row.exhibitor_name):\n",
    "        unified_games_with_exhibitors_df_rows.append(row_dict)\n",
    "    else:\n",
    "        # Grab the booth number\n",
    "        booth_number = row.booth_number\n",
    "\n",
    "        # Determine whether or not the exhibitor in the exhibitor_details_dict\n",
    "        if booth_number in exhibitor_details_dict:\n",
    "\n",
    "            # Check to see if the exhibitor name is the same as the developer\n",
    "            if pd.notna(row.developer) and (\n",
    "                exhibitor_details_dict[booth_number][\"exhibitor_name\"].lower()\n",
    "                == row.developer.lower()\n",
    "            ):\n",
    "                # If it is, just add the game to the list\n",
    "                unified_games_with_exhibitors_df_rows.append(row_dict)\n",
    "\n",
    "            # Otherwise, check to see if the name of the game is in the playable games\n",
    "            else:\n",
    "                # If it is, add the exhibitor name and description\n",
    "                if row.title in exhibitor_details_dict[booth_number][\"playable_games\"]:\n",
    "                    unified_games_with_exhibitors_df_rows.append(\n",
    "                        {\n",
    "                            **row_dict,\n",
    "                            \"exhibitor_name\": exhibitor_details_dict[booth_number][\n",
    "                                \"exhibitor_name\"\n",
    "                            ],\n",
    "                            \"exhibitor_description\": exhibitor_details_dict[\n",
    "                                booth_number\n",
    "                            ][\"exhibitor_description\"],\n",
    "                        }\n",
    "                    )\n",
    "                else:\n",
    "                    # Otherwise, just add the game to the list, but without the booth number\n",
    "                    row_dict[\"booth_number\"] = None\n",
    "                    unified_games_with_exhibitors_df_rows.append(row_dict)\n",
    "\n",
    "        # If not, just add the game to the list\n",
    "        else:\n",
    "            unified_games_with_exhibitors_df_rows.append(row_dict)\n",
    "\n",
    "# Create a new dataframe from the rows\n",
    "unified_games_with_exhibitors_df = pd.DataFrame(unified_games_with_exhibitors_df_rows)"
   ]
  },
  {
   "cell_type": "markdown",
   "metadata": {},
   "source": [
    "Next, we'll try to match using some of the \"playable games\" we've extracted:"
   ]
  },
  {
   "cell_type": "code",
   "execution_count": 12,
   "metadata": {},
   "outputs": [],
   "source": [
    "playable_games_df = exhibitor_details_df.explode(\"playable_games\").copy()\n",
    "playable_games_df = playable_games_df.dropna(subset=[\"playable_games\"])\n",
    "playable_games_df[\"game_name\"] = playable_games_df[\"playable_games\"].apply(\n",
    "    lambda x: x.get(\"name\") if isinstance(x, dict) else None\n",
    ")\n",
    "\n",
    "# Create a function to generate a merge key by removing case, non-alphanumerics, and spaces\n",
    "def create_merge_key(title):\n",
    "    if pd.isna(title):\n",
    "        return None\n",
    "    # Remove non-alphanumerics and spaces, convert to lowercase\n",
    "    return ''.join(c for c in str(title).lower() if c.isalnum())\n",
    "\n",
    "# Add merge keys to playable games\n",
    "playable_games_df[\"game_name_key\"] = playable_games_df[\"game_name\"].apply(create_merge_key)\n",
    "\n",
    "# Create dictionary with normalized keys\n",
    "playable_games_to_exhibitor_info_dict = {}\n",
    "for row in playable_games_df.itertuples():\n",
    "    if pd.notna(row.game_name_key):\n",
    "        playable_games_to_exhibitor_info_dict[row.game_name_key] = {\n",
    "            \"exhibitor_name\": row.name,\n",
    "            \"exhibitor_description\": row.description,\n",
    "            \"booth_number\": row.booth,\n",
    "        }\n",
    "\n",
    "unified_games_with_exhibitors_df_rows = []\n",
    "for row in unified_games_with_exhibitors_df.itertuples():\n",
    "\n",
    "    row_dict = row._asdict()\n",
    "    row_dict.pop(\"Index\", None)\n",
    "\n",
    "    # If the game has a booth number, add it and continue\n",
    "    if pd.notna(row.booth_number):\n",
    "        unified_games_with_exhibitors_df_rows.append(row_dict)\n",
    "        continue\n",
    "\n",
    "    # Create merge key for the current game title\n",
    "    title_key = create_merge_key(row.title)\n",
    "\n",
    "    # Otherwise, check if the game's normalized title is in the playable games dictionary\n",
    "    if title_key and title_key in playable_games_to_exhibitor_info_dict:\n",
    "        # If it is, add the exhibitor name and description\n",
    "        unified_games_with_exhibitors_df_rows.append(\n",
    "            {\n",
    "                **row_dict,\n",
    "                \"exhibitor_name\": playable_games_to_exhibitor_info_dict[title_key][\n",
    "                    \"exhibitor_name\"\n",
    "                ],\n",
    "                \"exhibitor_description\": playable_games_to_exhibitor_info_dict[\n",
    "                    title_key\n",
    "                ][\"exhibitor_description\"],\n",
    "                \"booth_number\": playable_games_to_exhibitor_info_dict[title_key][\n",
    "                    \"booth_number\"\n",
    "                ],\n",
    "            }\n",
    "        )\n",
    "    else:\n",
    "        # Otherwise, just add the game to the list\n",
    "        unified_games_with_exhibitors_df_rows.append(row_dict)\n",
    "\n",
    "# Create a new dataframe from the rows\n",
    "unified_games_with_exhibitors_df = pd.DataFrame(unified_games_with_exhibitors_df_rows)"
   ]
  },
  {
   "cell_type": "markdown",
   "metadata": {},
   "source": [
    "Finally, we'll try and merge any whose developer name matches the exhibitor name:"
   ]
  },
  {
   "cell_type": "code",
   "execution_count": 13,
   "metadata": {},
   "outputs": [],
   "source": [
    "unified_games_with_exhibitors_df_rows = []\n",
    "for row in unified_games_with_exhibitors_df.itertuples():\n",
    "    row_dict = row._asdict()\n",
    "    row_dict.pop(\"Index\", None)\n",
    "\n",
    "    # If the game has a booth number, add it and continue\n",
    "    if pd.notna(row.booth_number):\n",
    "        unified_games_with_exhibitors_df_rows.append(row_dict)\n",
    "        continue\n",
    "\n",
    "    # Otherwise, check if the game's developer is in the exhibitor_details_dict_by_name\n",
    "    if row.developer in exhibitor_details_dict_by_name:\n",
    "        # If it is, add the exhibitor name and description\n",
    "        unified_games_with_exhibitors_df_rows.append(\n",
    "            {\n",
    "                **row_dict,\n",
    "                \"exhibitor_name\": row.developer,\n",
    "                \"exhibitor_description\": exhibitor_details_dict_by_name[row.developer][\n",
    "                    \"exhibitor_description\"\n",
    "                ],\n",
    "                \"booth_number\": exhibitor_details_dict_by_name[row.developer][\n",
    "                    \"booth_number\"\n",
    "                ],\n",
    "            }\n",
    "        )\n",
    "    else:\n",
    "        # Otherwise, just add the game to the list\n",
    "        unified_games_with_exhibitors_df_rows.append(row_dict)\n",
    "\n",
    "# Create a new dataframe from the rows\n",
    "unified_games_with_exhibitors_df = pd.DataFrame(unified_games_with_exhibitors_df_rows)"
   ]
  },
  {
   "cell_type": "markdown",
   "metadata": {},
   "source": [
    "# Saving Unified Data\n",
    "Finally, below, I'm going to save the unified data:"
   ]
  },
  {
   "cell_type": "code",
   "execution_count": 14,
   "metadata": {},
   "outputs": [],
   "source": [
    "final_unified_data_df = unified_games_with_exhibitors_df.copy()\n",
    "\n",
    "# Cast the booth_number as an int\n",
    "final_unified_data_df[\"booth_number\"] = final_unified_data_df[\"booth_number\"].apply(\n",
    "    lambda x: int(x) if pd.notna(x) else None\n",
    ")\n",
    "\n",
    "# Make the description_texts a list of dicts, empty if nothing\n",
    "final_unified_data_df[\"description_texts\"] = final_unified_data_df[\n",
    "    \"description_texts\"\n",
    "].apply(lambda x: (x if isinstance(x, list) else []))\n",
    "\n",
    "# Make genres either a list of strings or an empty list\n",
    "final_unified_data_df[\"genres\"] = final_unified_data_df[\"genres\"].apply(\n",
    "    lambda x: x if isinstance(x, list) else ([x] if pd.notna(x) else [])\n",
    ")\n",
    "\n",
    "# Drop the release_year, and fromweb_description columns\n",
    "final_unified_data_df = final_unified_data_df.drop(\n",
    "    columns=[\"release_year\", \"fromweb_description\"],\n",
    "    errors=\"ignore\",\n",
    ")\n",
    "\n",
    "# Save the final unified data to a JSON file\n",
    "final_unified_data_df.to_json(\n",
    "    \"data/unified_games_data.json\", orient=\"records\", indent=4\n",
    ")"
   ]
  },
  {
   "cell_type": "markdown",
   "metadata": {},
   "source": [
    "# Understanding the Data\n",
    "How many games don't have booth numbers?"
   ]
  },
  {
   "cell_type": "code",
   "execution_count": 15,
   "metadata": {},
   "outputs": [
    {
     "data": {
      "text/plain": [
       "19"
      ]
     },
     "execution_count": 15,
     "metadata": {},
     "output_type": "execute_result"
    }
   ],
   "source": [
    "len(final_unified_data_df[final_unified_data_df[\"booth_number\"].isna()])"
   ]
  },
  {
   "cell_type": "code",
   "execution_count": null,
   "metadata": {},
   "outputs": [],
   "source": []
  }
 ],
 "metadata": {
  "kernelspec": {
   "display_name": ".venv",
   "language": "python",
   "name": "python3"
  },
  "language_info": {
   "codemirror_mode": {
    "name": "ipython",
    "version": 3
   },
   "file_extension": ".py",
   "mimetype": "text/x-python",
   "name": "python",
   "nbconvert_exporter": "python",
   "pygments_lexer": "ipython3",
   "version": "3.12.7"
  }
 },
 "nbformat": 4,
 "nbformat_minor": 2
}
