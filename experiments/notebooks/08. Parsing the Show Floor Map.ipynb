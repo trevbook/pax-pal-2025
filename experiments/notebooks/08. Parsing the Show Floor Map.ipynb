{
 "cells": [
  {
   "cell_type": "markdown",
   "metadata": {},
   "source": [
    "# **Parsing the Show Floor Map**\n",
    "I want a \"Map Page\", where users can see the location of a booth on the PAX map. In order to do that, I'll need to identify the bounding boxes of each booth within the image. "
   ]
  },
  {
   "cell_type": "markdown",
   "metadata": {},
   "source": [
    "# Setup\n",
    "The cells below will help to set up the rest of the notebook. \n",
    "\n",
    "I'll start by configuring the kernel that's running this notebook:"
   ]
  },
  {
   "cell_type": "code",
   "execution_count": 1,
   "metadata": {},
   "outputs": [
    {
     "name": "stdout",
     "output_type": "stream",
     "text": [
      "/Users/thubbard/Documents/personal/programming/pax-pal-2025/experiments\n"
     ]
    },
    {
     "data": {
      "text/plain": [
       "True"
      ]
     },
     "execution_count": 1,
     "metadata": {},
     "output_type": "execute_result"
    }
   ],
   "source": [
    "# Change the cwd\n",
    "%cd ..\n",
    "\n",
    "# Enable the autoreload module\n",
    "%load_ext autoreload\n",
    "%autoreload 2\n",
    "\n",
    "# Load the environment variables\n",
    "from dotenv import load_dotenv\n",
    "load_dotenv(override=True)"
   ]
  },
  {
   "cell_type": "markdown",
   "metadata": {},
   "source": [
    "Next, I'm going to import the necessary modules:"
   ]
  },
  {
   "cell_type": "code",
   "execution_count": 2,
   "metadata": {},
   "outputs": [],
   "source": [
    "# General imports\n",
    "import json, re\n",
    "\n",
    "# Third-party imports\n",
    "from google.cloud import vision"
   ]
  },
  {
   "cell_type": "markdown",
   "metadata": {},
   "source": [
    "# Section\n",
    "Description"
   ]
  },
  {
   "cell_type": "code",
   "execution_count": null,
   "metadata": {},
   "outputs": [],
   "source": [
    "IMG = \"experiments/data/pax-map.jpg\"\n",
    "PROJECT = \"your‑gcp‑project\"\n",
    "client = vision.ImageAnnotatorClient()\n",
    "\n",
    "with open(IMG, \"rb\") as f:\n",
    "    response = client.text_detection(image=vision.Image(content=f.read()))\n",
    "\n",
    "digits = {}\n",
    "for anno in response.text_annotations[1:]:  # skip the full‑page blob\n",
    "    text = anno.description.strip()\n",
    "    if not re.fullmatch(r\"\\d+\", text):\n",
    "        continue\n",
    "\n",
    "    # bounding_poly has 4 vertices (x,y). Flatten to [x1,y1,x2,y2].\n",
    "    xs = [v.x for v in anno.bounding_poly.vertices]\n",
    "    ys = [v.y for v in anno.bounding_poly.vertices]\n",
    "    bbox = [min(xs), min(ys), max(xs), max(ys)]\n",
    "\n",
    "    # Group multi‑chunk numbers (15 + 043 → 15043)\n",
    "    y_mid = (bbox[1] + bbox[3]) // 2\n",
    "    key = f\"{y_mid:05d}\"  # line key\n",
    "    digits.setdefault(key, []).append((bbox, text))\n",
    "\n",
    "# merge adjacent chunks on the same scan‑line\n",
    "booths = {}\n",
    "for line in digits.values():\n",
    "    line.sort(key=lambda t: t[0][0])  # sort left→right\n",
    "    cur_box, cur_txt = line[0]\n",
    "    for box, txt in line[1:]:\n",
    "        if box[0] - cur_box[2] < 15:  # ≤ 15 px gap?\n",
    "            # extend right edge & concat text\n",
    "            cur_box[2] = box[2]\n",
    "            cur_txt += txt\n",
    "        else:\n",
    "            booths[cur_txt] = cur_box\n",
    "            cur_box, cur_txt = box, txt\n",
    "    booths[cur_txt] = cur_box\n",
    "\n",
    "with open(\"booths.json\", \"w\") as f:\n",
    "    json.dump(booths, f, indent=2)\n",
    "print(f\"Saved {len(booths)} booths\")"
   ]
  }
 ],
 "metadata": {
  "kernelspec": {
   "display_name": ".venv",
   "language": "python",
   "name": "python3"
  },
  "language_info": {
   "codemirror_mode": {
    "name": "ipython",
    "version": 3
   },
   "file_extension": ".py",
   "mimetype": "text/x-python",
   "name": "python",
   "nbconvert_exporter": "python",
   "pygments_lexer": "ipython3",
   "version": "3.12.7"
  }
 },
 "nbformat": 4,
 "nbformat_minor": 2
}
