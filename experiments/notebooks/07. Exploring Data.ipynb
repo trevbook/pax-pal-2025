{
 "cells": [
  {
   "cell_type": "markdown",
   "metadata": {},
   "source": [
    "# **Exploring Data**\n",
    "This notebook is an exploratory area for understanding my data. "
   ]
  },
  {
   "cell_type": "markdown",
   "metadata": {},
   "source": [
    "# Setup\n",
    "The cells below will help to set up the rest of the notebook. \n",
    "\n",
    "I'll start by configuring the kernel that's running this notebook:"
   ]
  },
  {
   "cell_type": "code",
   "execution_count": 1,
   "metadata": {},
   "outputs": [
    {
     "name": "stdout",
     "output_type": "stream",
     "text": [
      "/Users/thubbard/Documents/personal/programming/pax-pal-2025/experiments\n"
     ]
    },
    {
     "data": {
      "text/plain": [
       "True"
      ]
     },
     "execution_count": 1,
     "metadata": {},
     "output_type": "execute_result"
    }
   ],
   "source": [
    "# Change the cwd\n",
    "%cd ..\n",
    "\n",
    "# Enable the autoreload module\n",
    "%load_ext autoreload\n",
    "%autoreload 2\n",
    "\n",
    "# Load the environment variables\n",
    "from dotenv import load_dotenv\n",
    "load_dotenv(override=True)"
   ]
  },
  {
   "cell_type": "markdown",
   "metadata": {},
   "source": [
    "Next, I'm going to import the necessary modules:"
   ]
  },
  {
   "cell_type": "code",
   "execution_count": 2,
   "metadata": {},
   "outputs": [],
   "source": [
    "# General imports\n",
    "import os\n",
    "\n",
    "# Third-party imports\n",
    "import pandas as pd"
   ]
  },
  {
   "cell_type": "markdown",
   "metadata": {},
   "source": [
    "# Loading Data\n",
    "Below, I'll load in the data:"
   ]
  },
  {
   "cell_type": "code",
   "execution_count": 5,
   "metadata": {},
   "outputs": [
    {
     "name": "stderr",
     "output_type": "stream",
     "text": [
      "/var/folders/p0/6dyp2b_d72z_d772nvm0y6tc0000gn/T/ipykernel_10022/2821581174.py:1: FutureWarning: The behavior of 'to_datetime' with 'unit' when parsing strings is deprecated. In a future version, strings will be parsed as datetime strings, matching the behavior without a 'unit'. To retain the old behavior, explicitly cast ints or floats to numeric type before calling to_datetime.\n",
      "  games_data_df = pd.read_json(\"data/final_enriched_games_data.json\")\n",
      "/var/folders/p0/6dyp2b_d72z_d772nvm0y6tc0000gn/T/ipykernel_10022/2821581174.py:1: FutureWarning: The behavior of 'to_datetime' with 'unit' when parsing strings is deprecated. In a future version, strings will be parsed as datetime strings, matching the behavior without a 'unit'. To retain the old behavior, explicitly cast ints or floats to numeric type before calling to_datetime.\n",
      "  games_data_df = pd.read_json(\"data/final_enriched_games_data.json\")\n",
      "/var/folders/p0/6dyp2b_d72z_d772nvm0y6tc0000gn/T/ipykernel_10022/2821581174.py:1: FutureWarning: The behavior of 'to_datetime' with 'unit' when parsing strings is deprecated. In a future version, strings will be parsed as datetime strings, matching the behavior without a 'unit'. To retain the old behavior, explicitly cast ints or floats to numeric type before calling to_datetime.\n",
      "  games_data_df = pd.read_json(\"data/final_enriched_games_data.json\")\n"
     ]
    }
   ],
   "source": [
    "games_data_df = pd.read_json(\"data/final_enriched_games_data.json\")"
   ]
  },
  {
   "cell_type": "markdown",
   "metadata": {},
   "source": [
    "# Exploring Data\n"
   ]
  },
  {
   "cell_type": "markdown",
   "metadata": {},
   "source": [
    "### Genres\n",
    "What are the most common genres / tags?"
   ]
  },
  {
   "cell_type": "code",
   "execution_count": 13,
   "metadata": {},
   "outputs": [
    {
     "data": {
      "text/plain": [
       "genres_and_tags\n",
       "Indie             85\n",
       "Adventure         68\n",
       "Action            55\n",
       "RPG               31\n",
       "Simulation        27\n",
       "Puzzle            22\n",
       "Casual            21\n",
       "Strategy          14\n",
       "Platformer        13\n",
       "Horror            13\n",
       "Platform          13\n",
       "Arcade            12\n",
       "Roguelite         10\n",
       "Shooter            9\n",
       "Early Access       8\n",
       "Hack and Slash     8\n",
       "Side Scroller      8\n",
       "Multiplayer        7\n",
       "Co-op              6\n",
       "Singleplayer       6\n",
       "Name: count, dtype: int64"
      ]
     },
     "execution_count": 13,
     "metadata": {},
     "output_type": "execute_result"
    }
   ],
   "source": [
    "games_data_df[\"genres_and_tags\"].explode().value_counts().head(20)"
   ]
  },
  {
   "cell_type": "markdown",
   "metadata": {},
   "source": [
    "### Platforms\n",
    "What platforms are available?"
   ]
  },
  {
   "cell_type": "code",
   "execution_count": 16,
   "metadata": {},
   "outputs": [
    {
     "data": {
      "text/plain": [
       "platforms\n",
       "PC                 104\n",
       "Nintendo Switch     29\n",
       "PlayStation 5       20\n",
       "Xbox One            20\n",
       "PlayStation 4       15\n",
       "Tabletop            15\n",
       "Xbox Series X|S     13\n",
       "Xbox Series X/S     10\n",
       "Windows              8\n",
       "Linux                7\n",
       "Name: count, dtype: int64"
      ]
     },
     "execution_count": 16,
     "metadata": {},
     "output_type": "execute_result"
    }
   ],
   "source": [
    "games_data_df[\"platforms\"].explode().value_counts().head(10)"
   ]
  },
  {
   "cell_type": "markdown",
   "metadata": {},
   "source": [
    "### Miscellaneous"
   ]
  },
  {
   "cell_type": "code",
   "execution_count": 14,
   "metadata": {},
   "outputs": [
    {
     "data": {
      "text/html": [
       "<div>\n",
       "<style scoped>\n",
       "    .dataframe tbody tr th:only-of-type {\n",
       "        vertical-align: middle;\n",
       "    }\n",
       "\n",
       "    .dataframe tbody tr th {\n",
       "        vertical-align: top;\n",
       "    }\n",
       "\n",
       "    .dataframe thead th {\n",
       "        text-align: right;\n",
       "    }\n",
       "</style>\n",
       "<table border=\"1\" class=\"dataframe\">\n",
       "  <thead>\n",
       "    <tr style=\"text-align: right;\">\n",
       "      <th></th>\n",
       "      <th>id</th>\n",
       "      <th>name</th>\n",
       "      <th>snappy_summary</th>\n",
       "      <th>description_texts</th>\n",
       "      <th>platforms</th>\n",
       "      <th>developer</th>\n",
       "      <th>exhibitor</th>\n",
       "      <th>booth_number</th>\n",
       "      <th>header_image_url</th>\n",
       "      <th>steam_link</th>\n",
       "      <th>genres_and_tags</th>\n",
       "      <th>media</th>\n",
       "      <th>released</th>\n",
       "      <th>release_time</th>\n",
       "      <th>links</th>\n",
       "    </tr>\n",
       "  </thead>\n",
       "  <tbody>\n",
       "    <tr>\n",
       "      <th>138</th>\n",
       "      <td>301bd9989ba1</td>\n",
       "      <td>Here Lies</td>\n",
       "      <td>Cooperative RPG mystery game inspired by class...</td>\n",
       "      <td>[{'source': 'pax_website', 'text': 'In Here Li...</td>\n",
       "      <td>[Tabletop]</td>\n",
       "      <td>DVC Games LLC</td>\n",
       "      <td>DVC Games LLC</td>\n",
       "      <td>11112</td>\n",
       "      <td>https://s3.amazonaws.com/app.growtix.com/media...</td>\n",
       "      <td>None</td>\n",
       "      <td>[RPG, Mystery, Cooperative]</td>\n",
       "      <td>[]</td>\n",
       "      <td>0.0</td>\n",
       "      <td>None</td>\n",
       "      <td>[{'title': 'Google Search for Game', 'url': 'h...</td>\n",
       "    </tr>\n",
       "    <tr>\n",
       "      <th>52</th>\n",
       "      <td>00aadf739c16</td>\n",
       "      <td>Paper Animal Adventure</td>\n",
       "      <td>Cute roguelike adventure with procedurally gen...</td>\n",
       "      <td>[{'source': 'pax_app', 'text': 'Paper Animal A...</td>\n",
       "      <td>[PC, Nintendo Switch, PlayStation 4, Xbox One,...</td>\n",
       "      <td>Top Hat Studios, Inc.</td>\n",
       "      <td>Top Hat Studios, Inc.</td>\n",
       "      <td>16097</td>\n",
       "      <td>https://s3.amazonaws.com/app.growtix.com/media...</td>\n",
       "      <td>https://store.steampowered.com/app/1982120/Pap...</td>\n",
       "      <td>[RPG, Mystery Dungeon, Adventure, Dungeon Craw...</td>\n",
       "      <td>[{'type': 'image', 'source': 'steam', 'url': '...</td>\n",
       "      <td>0.0</td>\n",
       "      <td>To be announced</td>\n",
       "      <td>[{'title': 'Google Search for Game', 'url': 'h...</td>\n",
       "    </tr>\n",
       "    <tr>\n",
       "      <th>153</th>\n",
       "      <td>589f1ad30e3a</td>\n",
       "      <td>Stay: Forever Home</td>\n",
       "      <td>Virtual pet simulation fostering emotional bon...</td>\n",
       "      <td>[{'source': 'pax_website', 'text': 'Stay: Fore...</td>\n",
       "      <td>[Meta Quest 2, Meta Quest 3, Meta Quest 3S]</td>\n",
       "      <td>Boston Indie Game Developers</td>\n",
       "      <td>Boston Indie Game Developers</td>\n",
       "      <td>18105</td>\n",
       "      <td>https://s3.amazonaws.com/app.growtix.com/media...</td>\n",
       "      <td>None</td>\n",
       "      <td>[Simulation, Virtual Pet]</td>\n",
       "      <td>[]</td>\n",
       "      <td>1.0</td>\n",
       "      <td>April 24, 2025</td>\n",
       "      <td>[{'title': 'Google Search for Game', 'url': 'h...</td>\n",
       "    </tr>\n",
       "    <tr>\n",
       "      <th>33</th>\n",
       "      <td>4b73279ef330</td>\n",
       "      <td>Iron Meat</td>\n",
       "      <td>Retro-inspired run-and-gun shooter battling in...</td>\n",
       "      <td>[{'source': 'pax_app', 'text': 'Iron Meat is a...</td>\n",
       "      <td>[PlayStation 5, PlayStation 4, Xbox Series X/S...</td>\n",
       "      <td>Retroware</td>\n",
       "      <td>Retroware</td>\n",
       "      <td>15031</td>\n",
       "      <td>https://s3.amazonaws.com/app.growtix.com/media...</td>\n",
       "      <td>https://store.steampowered.com/app/1157740/Iro...</td>\n",
       "      <td>[Platform, Side Scroller, Shoot 'Em Up, Shoote...</td>\n",
       "      <td>[{'type': 'image', 'source': 'steam', 'url': '...</td>\n",
       "      <td>1.0</td>\n",
       "      <td>September 26, 2024</td>\n",
       "      <td>[{'title': 'Google Search for Game', 'url': 'h...</td>\n",
       "    </tr>\n",
       "    <tr>\n",
       "      <th>38</th>\n",
       "      <td>868c3a42a2da</td>\n",
       "      <td>The Zombie Slayers</td>\n",
       "      <td>Colorful top-down shooter blending zombie batt...</td>\n",
       "      <td>[{'source': 'pax_app', 'text': 'The Zombie Sla...</td>\n",
       "      <td>[PC]</td>\n",
       "      <td>indie.io</td>\n",
       "      <td>indie.io</td>\n",
       "      <td>18114</td>\n",
       "      <td>https://s3.amazonaws.com/app.growtix.com/media...</td>\n",
       "      <td>https://store.steampowered.com/app/2932990/The...</td>\n",
       "      <td>[Multiplayer, Casual, Adventure, Indie, Top-Do...</td>\n",
       "      <td>[{'type': 'image', 'source': 'steam', 'url': '...</td>\n",
       "      <td>0.0</td>\n",
       "      <td>Coming soon</td>\n",
       "      <td>[{'title': 'Google Search for Game', 'url': 'h...</td>\n",
       "    </tr>\n",
       "  </tbody>\n",
       "</table>\n",
       "</div>"
      ],
      "text/plain": [
       "               id                    name  \\\n",
       "138  301bd9989ba1               Here Lies   \n",
       "52   00aadf739c16  Paper Animal Adventure   \n",
       "153  589f1ad30e3a      Stay: Forever Home   \n",
       "33   4b73279ef330               Iron Meat   \n",
       "38   868c3a42a2da      The Zombie Slayers   \n",
       "\n",
       "                                        snappy_summary  \\\n",
       "138  Cooperative RPG mystery game inspired by class...   \n",
       "52   Cute roguelike adventure with procedurally gen...   \n",
       "153  Virtual pet simulation fostering emotional bon...   \n",
       "33   Retro-inspired run-and-gun shooter battling in...   \n",
       "38   Colorful top-down shooter blending zombie batt...   \n",
       "\n",
       "                                     description_texts  \\\n",
       "138  [{'source': 'pax_website', 'text': 'In Here Li...   \n",
       "52   [{'source': 'pax_app', 'text': 'Paper Animal A...   \n",
       "153  [{'source': 'pax_website', 'text': 'Stay: Fore...   \n",
       "33   [{'source': 'pax_app', 'text': 'Iron Meat is a...   \n",
       "38   [{'source': 'pax_app', 'text': 'The Zombie Sla...   \n",
       "\n",
       "                                             platforms  \\\n",
       "138                                         [Tabletop]   \n",
       "52   [PC, Nintendo Switch, PlayStation 4, Xbox One,...   \n",
       "153        [Meta Quest 2, Meta Quest 3, Meta Quest 3S]   \n",
       "33   [PlayStation 5, PlayStation 4, Xbox Series X/S...   \n",
       "38                                                [PC]   \n",
       "\n",
       "                        developer                     exhibitor  booth_number  \\\n",
       "138                 DVC Games LLC                 DVC Games LLC         11112   \n",
       "52          Top Hat Studios, Inc.         Top Hat Studios, Inc.         16097   \n",
       "153  Boston Indie Game Developers  Boston Indie Game Developers         18105   \n",
       "33                      Retroware                     Retroware         15031   \n",
       "38                       indie.io                      indie.io         18114   \n",
       "\n",
       "                                      header_image_url  \\\n",
       "138  https://s3.amazonaws.com/app.growtix.com/media...   \n",
       "52   https://s3.amazonaws.com/app.growtix.com/media...   \n",
       "153  https://s3.amazonaws.com/app.growtix.com/media...   \n",
       "33   https://s3.amazonaws.com/app.growtix.com/media...   \n",
       "38   https://s3.amazonaws.com/app.growtix.com/media...   \n",
       "\n",
       "                                            steam_link  \\\n",
       "138                                               None   \n",
       "52   https://store.steampowered.com/app/1982120/Pap...   \n",
       "153                                               None   \n",
       "33   https://store.steampowered.com/app/1157740/Iro...   \n",
       "38   https://store.steampowered.com/app/2932990/The...   \n",
       "\n",
       "                                       genres_and_tags  \\\n",
       "138                        [RPG, Mystery, Cooperative]   \n",
       "52   [RPG, Mystery Dungeon, Adventure, Dungeon Craw...   \n",
       "153                          [Simulation, Virtual Pet]   \n",
       "33   [Platform, Side Scroller, Shoot 'Em Up, Shoote...   \n",
       "38   [Multiplayer, Casual, Adventure, Indie, Top-Do...   \n",
       "\n",
       "                                                 media  released  \\\n",
       "138                                                 []       0.0   \n",
       "52   [{'type': 'image', 'source': 'steam', 'url': '...       0.0   \n",
       "153                                                 []       1.0   \n",
       "33   [{'type': 'image', 'source': 'steam', 'url': '...       1.0   \n",
       "38   [{'type': 'image', 'source': 'steam', 'url': '...       0.0   \n",
       "\n",
       "           release_time                                              links  \n",
       "138                None  [{'title': 'Google Search for Game', 'url': 'h...  \n",
       "52      To be announced  [{'title': 'Google Search for Game', 'url': 'h...  \n",
       "153      April 24, 2025  [{'title': 'Google Search for Game', 'url': 'h...  \n",
       "33   September 26, 2024  [{'title': 'Google Search for Game', 'url': 'h...  \n",
       "38          Coming soon  [{'title': 'Google Search for Game', 'url': 'h...  "
      ]
     },
     "execution_count": 14,
     "metadata": {},
     "output_type": "execute_result"
    }
   ],
   "source": [
    "games_data_df.sample(5)"
   ]
  },
  {
   "cell_type": "code",
   "execution_count": null,
   "metadata": {},
   "outputs": [],
   "source": []
  }
 ],
 "metadata": {
  "kernelspec": {
   "display_name": ".venv",
   "language": "python",
   "name": "python3"
  },
  "language_info": {
   "codemirror_mode": {
    "name": "ipython",
    "version": 3
   },
   "file_extension": ".py",
   "mimetype": "text/x-python",
   "name": "python",
   "nbconvert_exporter": "python",
   "pygments_lexer": "ipython3",
   "version": "3.12.7"
  }
 },
 "nbformat": 4,
 "nbformat_minor": 2
}
