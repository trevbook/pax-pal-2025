{
 "cells": [
  {
   "cell_type": "markdown",
   "metadata": {},
   "source": [
    "# **Exploring Data**\n",
    "This notebook is an exploratory area for understanding my data. "
   ]
  },
  {
   "cell_type": "markdown",
   "metadata": {},
   "source": [
    "# Setup\n",
    "The cells below will help to set up the rest of the notebook. \n",
    "\n",
    "I'll start by configuring the kernel that's running this notebook:"
   ]
  },
  {
   "cell_type": "code",
   "execution_count": 1,
   "metadata": {},
   "outputs": [
    {
     "name": "stdout",
     "output_type": "stream",
     "text": [
      "/Users/thubbard/Documents/personal/programming/pax-pal-2025/experiments\n"
     ]
    },
    {
     "data": {
      "text/plain": [
       "True"
      ]
     },
     "execution_count": 1,
     "metadata": {},
     "output_type": "execute_result"
    }
   ],
   "source": [
    "# Change the cwd\n",
    "%cd ..\n",
    "\n",
    "# Enable the autoreload module\n",
    "%load_ext autoreload\n",
    "%autoreload 2\n",
    "\n",
    "# Load the environment variables\n",
    "from dotenv import load_dotenv\n",
    "load_dotenv(override=True)"
   ]
  },
  {
   "cell_type": "markdown",
   "metadata": {},
   "source": [
    "Next, I'm going to import the necessary modules:"
   ]
  },
  {
   "cell_type": "code",
   "execution_count": 12,
   "metadata": {},
   "outputs": [],
   "source": [
    "# General imports\n",
    "import os\n",
    "\n",
    "# Third-party imports\n",
    "import pandas as pd\n",
    "from IPython.display import display, Markdown\n",
    "\n",
    "# Project-specific imports\n",
    "from utils.openai import generate_completions_in_parallel"
   ]
  },
  {
   "cell_type": "markdown",
   "metadata": {},
   "source": [
    "# Loading Data\n",
    "Below, I'll load in the data:"
   ]
  },
  {
   "cell_type": "code",
   "execution_count": 3,
   "metadata": {},
   "outputs": [
    {
     "name": "stderr",
     "output_type": "stream",
     "text": [
      "/var/folders/p0/6dyp2b_d72z_d772nvm0y6tc0000gn/T/ipykernel_73797/2821581174.py:1: FutureWarning: The behavior of 'to_datetime' with 'unit' when parsing strings is deprecated. In a future version, strings will be parsed as datetime strings, matching the behavior without a 'unit'. To retain the old behavior, explicitly cast ints or floats to numeric type before calling to_datetime.\n",
      "  games_data_df = pd.read_json(\"data/final_enriched_games_data.json\")\n",
      "/var/folders/p0/6dyp2b_d72z_d772nvm0y6tc0000gn/T/ipykernel_73797/2821581174.py:1: FutureWarning: The behavior of 'to_datetime' with 'unit' when parsing strings is deprecated. In a future version, strings will be parsed as datetime strings, matching the behavior without a 'unit'. To retain the old behavior, explicitly cast ints or floats to numeric type before calling to_datetime.\n",
      "  games_data_df = pd.read_json(\"data/final_enriched_games_data.json\")\n",
      "/var/folders/p0/6dyp2b_d72z_d772nvm0y6tc0000gn/T/ipykernel_73797/2821581174.py:1: FutureWarning: The behavior of 'to_datetime' with 'unit' when parsing strings is deprecated. In a future version, strings will be parsed as datetime strings, matching the behavior without a 'unit'. To retain the old behavior, explicitly cast ints or floats to numeric type before calling to_datetime.\n",
      "  games_data_df = pd.read_json(\"data/final_enriched_games_data.json\")\n"
     ]
    }
   ],
   "source": [
    "games_data_df = pd.read_json(\"data/final_enriched_games_data.json\")"
   ]
  },
  {
   "cell_type": "markdown",
   "metadata": {},
   "source": [
    "# Exploring Data\n"
   ]
  },
  {
   "cell_type": "markdown",
   "metadata": {},
   "source": [
    "### Genres\n",
    "What are the most common genres / tags?"
   ]
  },
  {
   "cell_type": "code",
   "execution_count": 4,
   "metadata": {},
   "outputs": [
    {
     "name": "stdout",
     "output_type": "stream",
     "text": [
      "genres_and_tags\n",
      "Indie                                 85\n",
      "Adventure                             68\n",
      "Action                                55\n",
      "RPG                                   31\n",
      "Simulation                            27\n",
      "Puzzle                                22\n",
      "Casual                                21\n",
      "Strategy                              14\n",
      "Platformer                            13\n",
      "Horror                                13\n",
      "Platform                              13\n",
      "Arcade                                12\n",
      "Roguelite                             10\n",
      "Shooter                                9\n",
      "Early Access                           8\n",
      "Hack and Slash                         8\n",
      "Side Scroller                          8\n",
      "Multiplayer                            7\n",
      "Co-op                                  6\n",
      "Singleplayer                           6\n",
      "Roguelike                              6\n",
      "Cooperative                            5\n",
      "Survival Horror                        5\n",
      "Exploration                            5\n",
      "Sports                                 5\n",
      "Beat 'em up                            5\n",
      "Card Game                              5\n",
      "Atmospheric                            5\n",
      "Rhythm                                 5\n",
      "Cute                                   4\n",
      "2D Platformer                          4\n",
      "Stealth                                4\n",
      "Action Roguelike                       4\n",
      "Tabletop Role-Playing Game             4\n",
      "Online Co-Op                           4\n",
      "Survival                               4\n",
      "Farming Sim                            4\n",
      "Action RPG                             4\n",
      "Pixel Graphics                         3\n",
      "Bullet Hell                            3\n",
      "Precision Platformer                   3\n",
      "Open World Survival Craft              3\n",
      "Open-world                             3\n",
      "Deckbuilding                           3\n",
      "Comedy                                 3\n",
      "Point & Click                          3\n",
      "Isometric                              3\n",
      "First-Person                           3\n",
      "Turn-Based RPG                         3\n",
      "3D Platformer                          3\n",
      "Metroidvania                           2\n",
      "Solo RPG                               2\n",
      "Massively Multiplayer                  2\n",
      "Narrative                              2\n",
      "Dungeon Crawler                        2\n",
      "Choose Your Own Adventure              2\n",
      "Interactive Fiction                    2\n",
      "JRPG                                   2\n",
      "Top-Down                               2\n",
      "City Builder                           2\n",
      "Dating Sim                             2\n",
      "Management                             2\n",
      "Story Rich                             2\n",
      "Educational                            2\n",
      "Third Person                           2\n",
      "Zombies                                2\n",
      "Mystery                                2\n",
      "Funny                                  2\n",
      "Top-Down Shooter                       2\n",
      "Colony Sim                             2\n",
      "Life Simulation                        2\n",
      "Fantasy                                2\n",
      "3D                                     2\n",
      "Cartoony                               2\n",
      "Side-Scrolling Shooter                 2\n",
      "Shoot 'Em Up                           2\n",
      "FPS                                    2\n",
      "Psychological Horror                   2\n",
      "Combat                                 2\n",
      "TBS                                    2\n",
      "Turn-Based Tactics                     2\n",
      "Puzzle Platformer                      2\n",
      "Party Game                             2\n",
      "Souls-like                             2\n",
      "Real Time Tactics                      2\n",
      "Open World                             2\n",
      "Tabletop Role-Playing Game (TTRPG)     1\n",
      "Controller                             1\n",
      "Text Adventure                         1\n",
      "Sci-Fi                                 1\n",
      "Action-Adventure                       1\n",
      "Fighting                               1\n",
      "Music-Themed                           1\n",
      "Post-Apocalyptic                       1\n",
      "Auto Battler                           1\n",
      "Virtual Pet                            1\n",
      "Robots                                 1\n",
      "Point-and-click                        1\n",
      "Colorful                               1\n",
      "Local Co-Op                            1\n",
      "Farming Simulation                     1\n",
      "Life Sim                               1\n",
      "Job Simulator                          1\n",
      "Board Game                             1\n",
      "Graphic Novel                          1\n",
      "Grid-Based Movement                    1\n",
      "Tactical RPG                           1\n",
      "Tabletop RPG                           1\n",
      "Superhero                              1\n",
      "Set Collection                         1\n",
      "Escape Room                            1\n",
      "Role-Playing                           1\n",
      "Journaling Game                        1\n",
      "LGBTQ+                                 1\n",
      "Trading Card Game                      1\n",
      "Driving                                1\n",
      "Walking Simulator                      1\n",
      "Storytelling                           1\n",
      "Science Fiction                        1\n",
      "Take That                              1\n",
      "Twin-stick Shooter                     1\n",
      "Medieval                               1\n",
      "Tabletop                               1\n",
      "Dark                                   1\n",
      "2D                                     1\n",
      "Journaling                             1\n",
      "Role Playing                           1\n",
      "Farming                                1\n",
      "Automation                             1\n",
      "Boomer Shooter                         1\n",
      "First-Person Shooter                   1\n",
      "Collectible Card Game                  1\n",
      "Hand Management                        1\n",
      "Turn-Based Combat                      1\n",
      "Run and Gun                            1\n",
      "Real-Time with Pause                   1\n",
      "Destruction                            1\n",
      "Investigative Adventure                1\n",
      "Point-and-Click                        1\n",
      "Hand-drawn                             1\n",
      "Real-time strategy                     1\n",
      "RTS                                    1\n",
      "Cyberpunk                              1\n",
      "Physics-based                          1\n",
      "Dungeon RPG                            1\n",
      "Artificial Intelligence                1\n",
      "Creature Battler                       1\n",
      "Immersive sim                          1\n",
      "Immersive Sim                          1\n",
      "Tactics RPG                            1\n",
      "Crafting                               1\n",
      "Simulator                              1\n",
      "Turn-Based Strategy                    1\n",
      "Arena Fighter                          1\n",
      "Competitive                            1\n",
      "Sokoban                                1\n",
      "Narrative-driven adventure             1\n",
      "Female Protagonist                     1\n",
      "Looter-Shooter                         1\n",
      "Survival horror                        1\n",
      "Trivia                                 1\n",
      "Party                                  1\n",
      "Action role-playing                    1\n",
      "Visual Novel                           1\n",
      "Clicker                                1\n",
      "Mechs                                  1\n",
      "Relaxation                             1\n",
      "Strategy RPG                           1\n",
      "Realistic                              1\n",
      "Endless runner                         1\n",
      "Side-scroller                          1\n",
      "Bullet hell                            1\n",
      "Anime                                  1\n",
      "Retro                                  1\n",
      "Vehicular Combat                       1\n",
      "Racing                                 1\n",
      "Creature Collector                     1\n",
      "Word Game                              1\n",
      "MMO                                    1\n",
      "Incremental                            1\n",
      "Cozy                                   1\n",
      "Restaurant Management                  1\n",
      "Role-playing                           1\n",
      "Roguelike Deckbuilder                  1\n",
      "Card Battler                           1\n",
      "Turn-based strategy                    1\n",
      "Bowling                                1\n",
      "Relaxing                               1\n",
      "Mystery Dungeon                        1\n",
      "Thriller                               1\n",
      "Third-Person Shooter                   1\n",
      "Meditation                             1\n",
      "Wargame                                1\n",
      "Name: count, dtype: int64\n"
     ]
    }
   ],
   "source": [
    "# Print all genre/tag counts, not just the head (default Jupyter truncates output)\n",
    "pd.set_option('display.max_rows', None)\n",
    "print(games_data_df[\"genres_and_tags\"].explode().value_counts())\n",
    "pd.reset_option('display.max_rows')"
   ]
  },
  {
   "cell_type": "markdown",
   "metadata": {},
   "source": [
    "### Platforms\n",
    "What platforms are available?"
   ]
  },
  {
   "cell_type": "code",
   "execution_count": 6,
   "metadata": {},
   "outputs": [
    {
     "data": {
      "text/plain": [
       "platforms\n",
       "PC                                                          104\n",
       "Nintendo Switch                                              29\n",
       "PlayStation 5                                                20\n",
       "Xbox One                                                     20\n",
       "PlayStation 4                                                15\n",
       "Tabletop                                                     15\n",
       "Xbox Series X|S                                              13\n",
       "Xbox Series X/S                                              10\n",
       "Windows                                                       8\n",
       "Linux                                                         7\n",
       "Mac                                                           7\n",
       "macOS                                                         5\n",
       "Xbox                                                          5\n",
       "Android                                                       5\n",
       "PlayStation                                                   5\n",
       "iOS                                                           4\n",
       "Steam Deck                                                    2\n",
       "Xbox 360                                                      2\n",
       "Xbox Series                                                   2\n",
       "Nintendo Switch 2                                             2\n",
       "Meta Quest 2                                                  2\n",
       "Meta Quest 3                                                  2\n",
       "Mac OS X                                                      1\n",
       "PlayStation 3                                                 1\n",
       "OS X                                                          1\n",
       "Xbox Series X                                                 1\n",
       "Virtual Tabletop (VTT) platforms like Roll20 and Alchemy      1\n",
       "Amstrad CPC                                                   1\n",
       "SteamVR                                                       1\n",
       "PS4                                                           1\n",
       "PS5                                                           1\n",
       "NES                                                           1\n",
       "PC (Windows, Linux)                                           1\n",
       "Steam                                                         1\n",
       "Meta Quest                                                    1\n",
       "PC (Microsoft Windows)                                        1\n",
       "Mobile                                                        1\n",
       "Consoles                                                      1\n",
       "Meta Quest 3S                                                 1\n",
       "Name: count, dtype: int64"
      ]
     },
     "execution_count": 6,
     "metadata": {},
     "output_type": "execute_result"
    }
   ],
   "source": [
    "games_data_df[\"platforms\"].explode().value_counts()"
   ]
  },
  {
   "cell_type": "markdown",
   "metadata": {},
   "source": [
    "# Cleaning Up Platforms & Genres\n",
    "Below, I've created a list of the \"standardized\" platforms and genres. I'm going to run each game's details through ChatGPT, and ask to tag them based on what's known about the game."
   ]
  },
  {
   "cell_type": "code",
   "execution_count": 22,
   "metadata": {},
   "outputs": [],
   "source": [
    "available_genres = [\n",
    "    \"Indie\",\n",
    "    \"Adventure\",\n",
    "    \"Action\",\n",
    "    \"RPG\",\n",
    "    \"Simulation\",\n",
    "    \"Platformer\",\n",
    "    \"Shooter\",\n",
    "    \"Horror\",\n",
    "    \"Puzzle\",\n",
    "    \"Casual\",\n",
    "    \"Roguelite\",\n",
    "    \"Strategy / Tactics\",\n",
    "    \"Arcade\",\n",
    "    \"Survival\",\n",
    "    \"Hack & Slash / Beat 'em Up\",\n",
    "    \"Sports\",\n",
    "    \"Deck-Builder\",\n",
    "    \"Rhythm / Music\",\n",
    "    \"Stealth\",\n",
    "    \"Open World\",\n",
    "    \"First-Person\",\n",
    "    \"Comedy\",\n",
    "    \"Point-and-Click\",\n",
    "    \"Isometric\",\n",
    "    \"Metroidvania\",\n",
    "    \"Bullet Hell\",\n",
    "    \"Multiplayer\",\n",
    "]\n",
    "\n",
    "available_platforms = [\"PC\", \"Nintendo Switch\", \"PlayStation\", \"Xbox\", \"VR\", \"Mobile\"]"
   ]
  },
  {
   "cell_type": "markdown",
   "metadata": {},
   "source": [
    "Now, I'll prepare the prompts. "
   ]
  },
  {
   "cell_type": "code",
   "execution_count": 23,
   "metadata": {},
   "outputs": [],
   "source": [
    "developer_prompt = f\"\"\"# Role\n",
    "You're a digital assistant helping to categorize video game metadata under a standardized taxonomy. \n",
    "\n",
    "# Task\n",
    "Users will paste in some free text containing scraped information about a game. \n",
    "\n",
    "You will determine a list of genres & platforms from the following options:\n",
    "\n",
    "### Genres\n",
    "{\"\\n\".join([f\"- {genre}\" for genre in available_genres])}\n",
    "\n",
    "### Platforms\n",
    "{\"\\n\".join([f\"- {platform}\" for platform in available_platforms])}\n",
    "\n",
    "# Guidelines\n",
    "- Only use the information available in the text. Do not assume anything. \n",
    "- If no information is available for either `genres` or `platforms`, return an empty list for that field.\n",
    "\"\"\"\n",
    "\n",
    "from typing import List\n",
    "from pydantic import BaseModel\n",
    "\n",
    "\n",
    "class GameCategorizationOutput(BaseModel):\n",
    "    genres: List[str]\n",
    "    platforms: List[str]"
   ]
  },
  {
   "cell_type": "markdown",
   "metadata": {},
   "source": [
    "Next, I'll prepare the prompts:"
   ]
  },
  {
   "cell_type": "code",
   "execution_count": 24,
   "metadata": {},
   "outputs": [],
   "source": [
    "game_id_to_markdown_prompt = {}\n",
    "for row in games_data_df.itertuples():\n",
    "    prompt = f\"\"\"# **{row.name}**\n",
    "\n",
    "***Summary:** {row.snappy_summary}*\n",
    "\n",
    "***Description:** {row.description_texts}*\n",
    "\n",
    "***Genres:** {row.genres_and_tags}*\n",
    "\n",
    "***Platforms:** {row.platforms}*\n",
    "\"\"\"\n",
    "    game_id_to_markdown_prompt[row.id] = prompt"
   ]
  },
  {
   "cell_type": "markdown",
   "metadata": {},
   "source": [
    "Now, I'll categorize the data:"
   ]
  },
  {
   "cell_type": "code",
   "execution_count": 25,
   "metadata": {},
   "outputs": [
    {
     "name": "stderr",
     "output_type": "stream",
     "text": [
      "Generating Completions: 100%|██████████| 161/161 [00:24<00:00,  6.44it/s]\n"
     ]
    }
   ],
   "source": [
    "completions = generate_completions_in_parallel(\n",
    "    message_format_pairs=[\n",
    "        (\n",
    "            [\n",
    "                {\"role\": \"developer\", \"content\": developer_prompt},\n",
    "                {\"role\": \"user\", \"content\": prompt},\n",
    "            ],\n",
    "            GameCategorizationOutput,\n",
    "        )\n",
    "        for game_id, prompt in game_id_to_markdown_prompt.items()\n",
    "    ],\n",
    "    gpt_model=\"gpt-4.1-mini\",\n",
    "    show_progress=True\n",
    ")"
   ]
  },
  {
   "cell_type": "markdown",
   "metadata": {},
   "source": [
    "Next, I'll parse the completions:"
   ]
  },
  {
   "cell_type": "code",
   "execution_count": 26,
   "metadata": {},
   "outputs": [],
   "source": [
    "game_ids = [game_id for game_id, prompt in game_id_to_markdown_prompt.items()]\n",
    "cleaned_games_df_records = []\n",
    "for idx, completion in enumerate(completions):\n",
    "    parsed_completion = completion.choices[0].message.parsed\n",
    "    cleaned_games_df_records.append(\n",
    "        {\n",
    "            \"id\": game_ids[idx],\n",
    "            \"genres_and_tags\": parsed_completion.genres,\n",
    "            \"platforms\": parsed_completion.platforms,\n",
    "        }\n",
    "    )\n",
    "cleaned_games_df = pd.DataFrame(cleaned_games_df_records).merge(\n",
    "    games_data_df.drop(columns=[\"genres_and_tags\", \"platforms\"]),\n",
    "    on=\"id\",\n",
    "    how=\"inner\",\n",
    ")"
   ]
  },
  {
   "cell_type": "markdown",
   "metadata": {},
   "source": [
    "Finally, I'll save the data below:"
   ]
  },
  {
   "cell_type": "code",
   "execution_count": 27,
   "metadata": {},
   "outputs": [],
   "source": [
    "cleaned_games_df.to_json(\n",
    "    \"data/final_enriched_games_data.json\",\n",
    "    orient=\"records\",\n",
    ")"
   ]
  }
 ],
 "metadata": {
  "kernelspec": {
   "display_name": ".venv",
   "language": "python",
   "name": "python3"
  },
  "language_info": {
   "codemirror_mode": {
    "name": "ipython",
    "version": 3
   },
   "file_extension": ".py",
   "mimetype": "text/x-python",
   "name": "python",
   "nbconvert_exporter": "python",
   "pygments_lexer": "ipython3",
   "version": "3.12.7"
  }
 },
 "nbformat": 4,
 "nbformat_minor": 2
}
