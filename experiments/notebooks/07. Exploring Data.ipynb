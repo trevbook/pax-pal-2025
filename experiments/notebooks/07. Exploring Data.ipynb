{
 "cells": [
  {
   "cell_type": "markdown",
   "metadata": {},
   "source": [
    "# **Exploring Data**\n",
    "This notebook is an exploratory area for understanding my data. "
   ]
  },
  {
   "cell_type": "markdown",
   "metadata": {},
   "source": [
    "# Setup\n",
    "The cells below will help to set up the rest of the notebook. \n",
    "\n",
    "I'll start by configuring the kernel that's running this notebook:"
   ]
  },
  {
   "cell_type": "code",
   "execution_count": 1,
   "metadata": {},
   "outputs": [
    {
     "name": "stdout",
     "output_type": "stream",
     "text": [
      "/Users/thubbard/Documents/personal/programming/pax-pal-2025/experiments\n"
     ]
    },
    {
     "data": {
      "text/plain": [
       "True"
      ]
     },
     "execution_count": 1,
     "metadata": {},
     "output_type": "execute_result"
    }
   ],
   "source": [
    "# Change the cwd\n",
    "%cd ..\n",
    "\n",
    "# Enable the autoreload module\n",
    "%load_ext autoreload\n",
    "%autoreload 2\n",
    "\n",
    "# Load the environment variables\n",
    "from dotenv import load_dotenv\n",
    "load_dotenv(override=True)"
   ]
  },
  {
   "cell_type": "markdown",
   "metadata": {},
   "source": [
    "Next, I'm going to import the necessary modules:"
   ]
  },
  {
   "cell_type": "code",
   "execution_count": 2,
   "metadata": {},
   "outputs": [],
   "source": [
    "# General imports\n",
    "import os\n",
    "\n",
    "# Third-party imports\n",
    "import pandas as pd\n",
    "from IPython.display import display, Markdown\n",
    "\n",
    "# Project-specific imports\n",
    "from utils.openai import generate_completions_in_parallel"
   ]
  },
  {
   "cell_type": "markdown",
   "metadata": {},
   "source": [
    "# Loading Data\n",
    "Below, I'll load in the data:"
   ]
  },
  {
   "cell_type": "code",
   "execution_count": 3,
   "metadata": {},
   "outputs": [
    {
     "name": "stderr",
     "output_type": "stream",
     "text": [
      "/var/folders/p0/6dyp2b_d72z_d772nvm0y6tc0000gn/T/ipykernel_76157/2821581174.py:1: FutureWarning: The behavior of 'to_datetime' with 'unit' when parsing strings is deprecated. In a future version, strings will be parsed as datetime strings, matching the behavior without a 'unit'. To retain the old behavior, explicitly cast ints or floats to numeric type before calling to_datetime.\n",
      "  games_data_df = pd.read_json(\"data/final_enriched_games_data.json\")\n",
      "/var/folders/p0/6dyp2b_d72z_d772nvm0y6tc0000gn/T/ipykernel_76157/2821581174.py:1: FutureWarning: The behavior of 'to_datetime' with 'unit' when parsing strings is deprecated. In a future version, strings will be parsed as datetime strings, matching the behavior without a 'unit'. To retain the old behavior, explicitly cast ints or floats to numeric type before calling to_datetime.\n",
      "  games_data_df = pd.read_json(\"data/final_enriched_games_data.json\")\n",
      "/var/folders/p0/6dyp2b_d72z_d772nvm0y6tc0000gn/T/ipykernel_76157/2821581174.py:1: FutureWarning: The behavior of 'to_datetime' with 'unit' when parsing strings is deprecated. In a future version, strings will be parsed as datetime strings, matching the behavior without a 'unit'. To retain the old behavior, explicitly cast ints or floats to numeric type before calling to_datetime.\n",
      "  games_data_df = pd.read_json(\"data/final_enriched_games_data.json\")\n"
     ]
    }
   ],
   "source": [
    "games_data_df = pd.read_json(\"data/final_enriched_games_data.json\")"
   ]
  },
  {
   "cell_type": "markdown",
   "metadata": {},
   "source": [
    "# Exploring Data\n"
   ]
  },
  {
   "cell_type": "markdown",
   "metadata": {},
   "source": [
    "### Genres\n",
    "What are the most common genres / tags?"
   ]
  },
  {
   "cell_type": "code",
   "execution_count": 4,
   "metadata": {},
   "outputs": [
    {
     "name": "stdout",
     "output_type": "stream",
     "text": [
      "genres_and_tags\n",
      "Indie                         83\n",
      "Adventure                     71\n",
      "Action                        59\n",
      "RPG                           42\n",
      "Simulation                    29\n",
      "Platformer                    23\n",
      "Puzzle                        22\n",
      "Casual                        21\n",
      "Strategy / Tactics            20\n",
      "Roguelite                     18\n",
      "Multiplayer                   15\n",
      "Horror                        14\n",
      "Arcade                        12\n",
      "Shooter                       11\n",
      "Hack & Slash / Beat 'em Up    10\n",
      "Survival                       9\n",
      "Deck-Builder                   8\n",
      "Open World                     6\n",
      "Sports                         5\n",
      "Rhythm / Music                 5\n",
      "Isometric                      4\n",
      "First-Person                   4\n",
      "Point-and-Click                4\n",
      "Stealth                        4\n",
      "Bullet Hell                    3\n",
      "Comedy                         3\n",
      "Metroidvania                   2\n",
      "Music / Rhythm                 1\n",
      "Name: count, dtype: int64\n"
     ]
    }
   ],
   "source": [
    "# Print all genre/tag counts, not just the head (default Jupyter truncates output)\n",
    "pd.set_option('display.max_rows', None)\n",
    "print(games_data_df[\"genres_and_tags\"].explode().value_counts())\n",
    "pd.reset_option('display.max_rows')"
   ]
  },
  {
   "cell_type": "markdown",
   "metadata": {},
   "source": [
    "### Platforms\n",
    "What platforms are available?"
   ]
  },
  {
   "cell_type": "code",
   "execution_count": 5,
   "metadata": {},
   "outputs": [
    {
     "data": {
      "text/plain": [
       "platforms\n",
       "PC                 115\n",
       "Xbox                34\n",
       "PlayStation         29\n",
       "Nintendo Switch     29\n",
       "Mobile               6\n",
       "VR                   3\n",
       "Name: count, dtype: int64"
      ]
     },
     "execution_count": 5,
     "metadata": {},
     "output_type": "execute_result"
    }
   ],
   "source": [
    "games_data_df[\"platforms\"].explode().value_counts()"
   ]
  },
  {
   "cell_type": "markdown",
   "metadata": {},
   "source": [
    "# Cleaning Up Platforms & Genres\n",
    "Below, I've created a list of the \"standardized\" platforms and genres. I'm going to run each game's details through ChatGPT, and ask to tag them based on what's known about the game."
   ]
  },
  {
   "cell_type": "code",
   "execution_count": 6,
   "metadata": {},
   "outputs": [],
   "source": [
    "available_genres = [\n",
    "    \"Indie\",\n",
    "    \"Adventure\",\n",
    "    \"Action\",\n",
    "    \"RPG\",\n",
    "    \"Simulation\",\n",
    "    \"Platformer\",\n",
    "    \"Shooter\",\n",
    "    \"Horror\",\n",
    "    \"Puzzle\",\n",
    "    \"Casual\",\n",
    "    \"Roguelite\",\n",
    "    \"Strategy\",\n",
    "    \"Arcade\",\n",
    "    \"Survival\",\n",
    "    \"Beat 'em Up\",\n",
    "    \"Sports\",\n",
    "    \"Deck-Builder\",\n",
    "    \"Rhythm\",\n",
    "    \"Stealth\",\n",
    "    \"Open World\",\n",
    "    \"First-Person\",\n",
    "    \"Comedy\",\n",
    "    \"Isometric\",\n",
    "    \"Metroidvania\",\n",
    "    \"Bullet Hell\",\n",
    "    \"Multiplayer\",\n",
    "]\n",
    "\n",
    "available_platforms = [\"PC\", \"Nintendo Switch\", \"PlayStation\", \"Xbox\", \"VR\", \"Mobile\"]"
   ]
  },
  {
   "cell_type": "markdown",
   "metadata": {},
   "source": [
    "Now, I'll prepare the prompts. "
   ]
  },
  {
   "cell_type": "code",
   "execution_count": 7,
   "metadata": {},
   "outputs": [],
   "source": [
    "developer_prompt = f\"\"\"# Role\n",
    "You're a digital assistant helping to categorize video game metadata under a standardized taxonomy. \n",
    "\n",
    "# Task\n",
    "Users will paste in some free text containing scraped information about a game. \n",
    "\n",
    "You will determine a list of genres & platforms from the following options:\n",
    "\n",
    "### Genres\n",
    "{\"\\n\".join([f\"- {genre}\" for genre in available_genres])}\n",
    "\n",
    "### Platforms\n",
    "{\"\\n\".join([f\"- {platform}\" for platform in available_platforms])}\n",
    "\n",
    "# Guidelines\n",
    "- Only use the information available in the text. Do not assume anything. \n",
    "- If no information is available for either `genres` or `platforms`, return an empty list for that field.\n",
    "\"\"\"\n",
    "\n",
    "from typing import List\n",
    "from pydantic import BaseModel\n",
    "\n",
    "\n",
    "class GameCategorizationOutput(BaseModel):\n",
    "    genres: List[str]\n",
    "    platforms: List[str]"
   ]
  },
  {
   "cell_type": "markdown",
   "metadata": {},
   "source": [
    "Next, I'll prepare the prompts:"
   ]
  },
  {
   "cell_type": "code",
   "execution_count": 8,
   "metadata": {},
   "outputs": [],
   "source": [
    "game_id_to_markdown_prompt = {}\n",
    "for row in games_data_df.itertuples():\n",
    "    prompt = f\"\"\"# **{row.name}**\n",
    "\n",
    "***Summary:** {row.snappy_summary}*\n",
    "\n",
    "***Description:** {row.description_texts}*\n",
    "\n",
    "***Genres:** {row.genres_and_tags}*\n",
    "\n",
    "***Platforms:** {row.platforms}*\n",
    "\"\"\"\n",
    "    game_id_to_markdown_prompt[row.id] = prompt"
   ]
  },
  {
   "cell_type": "markdown",
   "metadata": {},
   "source": [
    "Now, I'll categorize the data:"
   ]
  },
  {
   "cell_type": "code",
   "execution_count": 9,
   "metadata": {},
   "outputs": [
    {
     "name": "stderr",
     "output_type": "stream",
     "text": [
      "Generating Completions: 100%|██████████| 161/161 [00:22<00:00,  7.01it/s]\n"
     ]
    }
   ],
   "source": [
    "completions = generate_completions_in_parallel(\n",
    "    message_format_pairs=[\n",
    "        (\n",
    "            [\n",
    "                {\"role\": \"developer\", \"content\": developer_prompt},\n",
    "                {\"role\": \"user\", \"content\": prompt},\n",
    "            ],\n",
    "            GameCategorizationOutput,\n",
    "        )\n",
    "        for game_id, prompt in game_id_to_markdown_prompt.items()\n",
    "    ],\n",
    "    gpt_model=\"gpt-4.1-mini\",\n",
    "    show_progress=True\n",
    ")"
   ]
  },
  {
   "cell_type": "markdown",
   "metadata": {},
   "source": [
    "Next, I'll parse the completions:"
   ]
  },
  {
   "cell_type": "code",
   "execution_count": 10,
   "metadata": {},
   "outputs": [],
   "source": [
    "game_ids = [game_id for game_id, prompt in game_id_to_markdown_prompt.items()]\n",
    "cleaned_games_df_records = []\n",
    "for idx, completion in enumerate(completions):\n",
    "    parsed_completion = completion.choices[0].message.parsed\n",
    "    cleaned_games_df_records.append(\n",
    "        {\n",
    "            \"id\": game_ids[idx],\n",
    "            \"genres_and_tags\": parsed_completion.genres,\n",
    "            \"platforms\": parsed_completion.platforms,\n",
    "        }\n",
    "    )\n",
    "cleaned_games_df = pd.DataFrame(cleaned_games_df_records).merge(\n",
    "    games_data_df.drop(columns=[\"genres_and_tags\", \"platforms\"]),\n",
    "    on=\"id\",\n",
    "    how=\"inner\",\n",
    ")"
   ]
  },
  {
   "cell_type": "markdown",
   "metadata": {},
   "source": [
    "Finally, I'll save the data below:"
   ]
  },
  {
   "cell_type": "code",
   "execution_count": 12,
   "metadata": {},
   "outputs": [],
   "source": [
    "cleaned_games_df.to_json(\n",
    "    \"data/final_enriched_games_data.json\",\n",
    "    orient=\"records\",\n",
    ")"
   ]
  },
  {
   "cell_type": "code",
   "execution_count": null,
   "metadata": {},
   "outputs": [],
   "source": []
  }
 ],
 "metadata": {
  "kernelspec": {
   "display_name": ".venv",
   "language": "python",
   "name": "python3"
  },
  "language_info": {
   "codemirror_mode": {
    "name": "ipython",
    "version": 3
   },
   "file_extension": ".py",
   "mimetype": "text/x-python",
   "name": "python",
   "nbconvert_exporter": "python",
   "pygments_lexer": "ipython3",
   "version": "3.12.7"
  }
 },
 "nbformat": 4,
 "nbformat_minor": 2
}
