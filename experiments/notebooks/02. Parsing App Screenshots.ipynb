{
 "cells": [
  {
   "cell_type": "markdown",
   "metadata": {},
   "source": [
    "# **Parsing App Screenshots**\n",
    "After I failed to scrape the PAX app directly, I decided to take ~150 screenshots of each of the "
   ]
  },
  {
   "cell_type": "markdown",
   "metadata": {},
   "source": [
    "# Setup\n",
    "The cells below will help to set up the rest of the notebook. \n",
    "\n",
    "I'll start by configuring the kernel that's running this notebook:"
   ]
  },
  {
   "cell_type": "code",
   "execution_count": 1,
   "metadata": {},
   "outputs": [
    {
     "name": "stdout",
     "output_type": "stream",
     "text": [
      "/Users/thubbard/Documents/personal/programming/pax-pal-2025\n"
     ]
    },
    {
     "data": {
      "text/plain": [
       "True"
      ]
     },
     "execution_count": 1,
     "metadata": {},
     "output_type": "execute_result"
    }
   ],
   "source": [
    "# Change the cwd\n",
    "%cd ..\n",
    "\n",
    "# Enable the autoreload module\n",
    "%load_ext autoreload\n",
    "%autoreload 2\n",
    "\n",
    "# Load the environment variables\n",
    "from dotenv import load_dotenv\n",
    "load_dotenv(override=True)"
   ]
  },
  {
   "cell_type": "markdown",
   "metadata": {},
   "source": [
    "Next, I'm going to import the necessary modules:"
   ]
  },
  {
   "cell_type": "code",
   "execution_count": 2,
   "metadata": {},
   "outputs": [],
   "source": [
    "# General imports\n",
    "import random\n",
    "\n",
    "# Third-party imports\n",
    "import pandas as pd"
   ]
  },
  {
   "cell_type": "markdown",
   "metadata": {},
   "source": [
    "# Defining Methods"
   ]
  },
  {
   "cell_type": "code",
   "execution_count": 3,
   "metadata": {},
   "outputs": [],
   "source": [
    "import base64\n",
    "import os\n",
    "import json\n",
    "import time\n",
    "from openai import OpenAI\n",
    "from typing import List, Optional, Dict, Any\n",
    "from pydantic import BaseModel\n",
    "\n",
    "client = OpenAI()\n",
    "\n",
    "\n",
    "# Function to encode the image\n",
    "def encode_image(image_path: str) -> str:\n",
    "    \"\"\"Encode an image file to base64 string.\"\"\"\n",
    "    with open(image_path, \"rb\") as image_file:\n",
    "        return base64.b64encode(image_file.read()).decode(\"utf-8\")\n",
    "\n",
    "\n",
    "# Define a Pydantic model for the game data\n",
    "class GameMetadata(BaseModel):\n",
    "    title: str\n",
    "    department: str\n",
    "    booth_number: Optional[float] = None\n",
    "    description: Optional[str] = None\n",
    "    genres: Optional[List[str]] = None\n",
    "    developer: Optional[str] = None\n",
    "    release_year: Optional[int] = None\n",
    "\n",
    "\n",
    "def parse_game_screenshot(image_path: str) -> Dict[str, Any]:\n",
    "    \"\"\"\n",
    "    Parse a screenshot of a game from the PAX app and extract metadata.\n",
    "\n",
    "    Args:\n",
    "        image_path: Path to the screenshot image\n",
    "\n",
    "    Returns:\n",
    "        Dictionary containing extracted game metadata\n",
    "    \"\"\"\n",
    "    # Encode the image\n",
    "    base64_image = encode_image(image_path)\n",
    "\n",
    "    # Create the developer message with instructions\n",
    "    developer_message = \"\"\"\n",
    "# Role\n",
    "You're a screenshot-parsing digital assistant who responds in JSON. \n",
    "\n",
    "# Context\n",
    "Users are trying to extract information about games appearing at an upcoming conference. They've taken screenshots of the conference's app, and each screenshot ought to have some metadata about a game in a modal that's vertically centered in the screen. \n",
    "\n",
    "The modal can contain the following attributes: \n",
    "\n",
    "- `title` (always present; displayed as a header in the modal) \n",
    "- `department` (always present) \n",
    "- `booth_number` (optional)\n",
    "- `developer` (optional)\n",
    "- `release_year` (optional)\n",
    "- `description` (optional)\n",
    "- `genres` (optional)\n",
    "\n",
    "# Task\n",
    "A user will upload a screenshot. Extract all of the game metadata that you can identify within the modal. Respond in a JSON w/ the following attributes: \n",
    "\n",
    "- title (str)\n",
    "- department (str) \n",
    "- booth_number (Optional[int]) \n",
    "- description (Optional[str])\n",
    "- genres (Optional[List[str]])\n",
    "- developer (Optional[str])\n",
    "- release_year (Optional[int])\n",
    "\n",
    "If information is not present, you can leave the fields as `None`. \n",
    "\"\"\"\n",
    "\n",
    "    # Create the completion using structured output\n",
    "    completion = client.beta.chat.completions.parse(\n",
    "        model=\"gpt-4.1-mini\",\n",
    "        messages=[\n",
    "            {\n",
    "                \"role\": \"developer\",\n",
    "                \"content\": developer_message,\n",
    "            },\n",
    "            {\n",
    "                \"role\": \"user\",\n",
    "                \"content\": [\n",
    "                    {\n",
    "                        \"type\": \"image_url\",\n",
    "                        \"image_url\": {\"url\": f\"data:image/jpeg;base64,{base64_image}\"},\n",
    "                    },\n",
    "                ],\n",
    "            },\n",
    "        ],\n",
    "        response_format=GameMetadata,\n",
    "    )\n",
    "\n",
    "    # Get the parsed data as a dictionary\n",
    "    game_data = completion.choices[0].message.parsed.model_dump()\n",
    "\n",
    "    # Add 3 second sleep timer\n",
    "    time.sleep(3)\n",
    "\n",
    "    return game_data"
   ]
  },
  {
   "cell_type": "markdown",
   "metadata": {},
   "source": [
    "# Parsing the Screenshots\n"
   ]
  },
  {
   "cell_type": "code",
   "execution_count": 4,
   "metadata": {},
   "outputs": [
    {
     "name": "stdout",
     "output_type": "stream",
     "text": [
      "Found 152 screenshots to process\n"
     ]
    },
    {
     "name": "stderr",
     "output_type": "stream",
     "text": [
      "Processing screenshots: 100%|██████████| 152/152 [22:29<00:00,  8.88s/file]"
     ]
    },
    {
     "name": "stdout",
     "output_type": "stream",
     "text": [
      "Processed 152 screenshots successfully\n"
     ]
    },
    {
     "name": "stderr",
     "output_type": "stream",
     "text": [
      "\n"
     ]
    }
   ],
   "source": [
    "import os\n",
    "from pathlib import Path\n",
    "from tqdm import tqdm\n",
    "\n",
    "# Path to the screenshots directory\n",
    "screenshots_dir = Path(\"data/app_screenshots\")\n",
    "\n",
    "# Dictionary to store results\n",
    "all_results = {}\n",
    "\n",
    "# Find all jpg files in the directory\n",
    "jpg_files = [f for f in os.listdir(screenshots_dir) if f.lower().endswith(\".jpg\")]\n",
    "\n",
    "print(f\"Found {len(jpg_files)} screenshots to process\")\n",
    "\n",
    "# Process each file with tqdm progress bar\n",
    "for jpg_file in tqdm(jpg_files, desc=\"Processing screenshots\", unit=\"file\"):\n",
    "    file_path = screenshots_dir / jpg_file\n",
    "\n",
    "    try:\n",
    "        # Parse the screenshot\n",
    "        result = parse_game_screenshot(str(file_path))\n",
    "\n",
    "        # Store the result with the filename as key\n",
    "        all_results[jpg_file] = result\n",
    "\n",
    "    except Exception as e:\n",
    "        tqdm.write(f\"Error processing {jpg_file}: {str(e)}\")\n",
    "\n",
    "print(f\"Processed {len(all_results)} screenshots successfully\")\n",
    "all_game_data = all_results"
   ]
  },
  {
   "cell_type": "markdown",
   "metadata": {},
   "source": [
    "Next, I'll create a `DataFrame` with all of the results, and save it. "
   ]
  },
  {
   "cell_type": "code",
   "execution_count": 5,
   "metadata": {},
   "outputs": [],
   "source": [
    "# Create a DataFrame from the results\n",
    "game_data_df = pd.DataFrame.from_records(\n",
    "    [\n",
    "        {\n",
    "            \"filename\": filename,\n",
    "            **game_data,\n",
    "        }\n",
    "        for filename, game_data in all_game_data.items()\n",
    "    ]\n",
    ")\n",
    "\n",
    "# Save the dataframe to a .json file\n",
    "game_data_df.to_json(\n",
    "    \"data/games_from_app.json\",\n",
    "    orient=\"records\",\n",
    "    indent=2,\n",
    ")"
   ]
  },
  {
   "cell_type": "markdown",
   "metadata": {},
   "source": [
    "# Reloading the Data\n",
    "If I want to reload the data, I can do it below:"
   ]
  },
  {
   "cell_type": "code",
   "execution_count": 11,
   "metadata": {},
   "outputs": [],
   "source": [
    "# Reload the game_data_df\n",
    "game_data_df = pd.read_json(\"data/games_from_app.json\", orient=\"records\")"
   ]
  }
 ],
 "metadata": {
  "kernelspec": {
   "display_name": ".venv",
   "language": "python",
   "name": "python3"
  },
  "language_info": {
   "codemirror_mode": {
    "name": "ipython",
    "version": 3
   },
   "file_extension": ".py",
   "mimetype": "text/x-python",
   "name": "python",
   "nbconvert_exporter": "python",
   "pygments_lexer": "ipython3",
   "version": "3.12.7"
  }
 },
 "nbformat": 4,
 "nbformat_minor": 2
}
