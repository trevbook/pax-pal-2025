{
 "cells": [
  {
   "cell_type": "markdown",
   "metadata": {},
   "source": [
    "# **Scraping the Expo Hall Demos**\n",
    "I found out there was [a page containing more information about games being demoed at the expo hall](https://east.paxsite.com/en-us/expo-hall/expo-hall-demos.html). Within this notebook, I'll scrape that too! "
   ]
  },
  {
   "cell_type": "markdown",
   "metadata": {},
   "source": [
    "# Setup\n",
    "The cells below will help to set up the rest of the notebook. \n",
    "\n",
    "I'll start by configuring the kernel that's running this notebook:"
   ]
  },
  {
   "cell_type": "code",
   "execution_count": 1,
   "metadata": {},
   "outputs": [
    {
     "name": "stdout",
     "output_type": "stream",
     "text": [
      "/Users/thubbard/Documents/personal/programming/pax-pal-2025/experiments\n"
     ]
    },
    {
     "data": {
      "text/plain": [
       "True"
      ]
     },
     "execution_count": 1,
     "metadata": {},
     "output_type": "execute_result"
    }
   ],
   "source": [
    "# Change the cwd\n",
    "%cd ..\n",
    "\n",
    "# Enable the autoreload module\n",
    "%load_ext autoreload\n",
    "%autoreload 2\n",
    "\n",
    "# Load the environment variables\n",
    "from dotenv import load_dotenv\n",
    "load_dotenv(override=True)"
   ]
  },
  {
   "cell_type": "markdown",
   "metadata": {},
   "source": [
    "Next, I'm going to import the necessary modules:"
   ]
  },
  {
   "cell_type": "code",
   "execution_count": 7,
   "metadata": {},
   "outputs": [],
   "source": [
    "# General imports\n",
    "import re\n",
    "import asyncio\n",
    "\n",
    "# Third-party imports\n",
    "import pandas as pd\n",
    "from bs4 import BeautifulSoup\n",
    "from playwright.async_api import async_playwright\n",
    "from tqdm.notebook import tqdm\n",
    "\n",
    "# Project-specific imports\n",
    "from utils.miscellaneous import get_consistent_hash"
   ]
  },
  {
   "cell_type": "markdown",
   "metadata": {},
   "source": [
    "# Grabbing Expo Hall Games"
   ]
  },
  {
   "cell_type": "code",
   "execution_count": 3,
   "metadata": {},
   "outputs": [
    {
     "name": "stdout",
     "output_type": "stream",
     "text": [
      "Loading the Expo Hall Demos page...\n",
      "Waiting for games to load...\n",
      "Found 151 games\n"
     ]
    }
   ],
   "source": [
    "async def scrape_expo_hall_demos():\n",
    "    \"\"\"\n",
    "    Scrapes the PAX East Expo Hall Demos page to get a list of all games being showcased.\n",
    "    Returns a list of dictionaries containing game information.\n",
    "\n",
    "    If the live page scrape fails, falls back to parsing the local HTML file at data/full-demo-list-html.txt.\n",
    "    \"\"\"\n",
    "    games = []\n",
    "    content = None\n",
    "    used_fallback = False\n",
    "\n",
    "    try:\n",
    "        async with async_playwright() as p:\n",
    "            # Launch browser\n",
    "            browser = await p.chromium.launch(headless=True)\n",
    "            page = await browser.new_page()\n",
    "\n",
    "            # Navigate to the expo hall demos page\n",
    "            print(\"Loading the Expo Hall Demos page...\")\n",
    "            await page.goto(\n",
    "                \"https://east.paxsite.com/en-us/expo-hall/expo-hall-demos.html\",\n",
    "                timeout=60000,\n",
    "            )\n",
    "\n",
    "            # Wait for the games to load\n",
    "            print(\"Waiting for games to load...\")\n",
    "            await page.wait_for_selector(\n",
    "                \".specials-list.gtartists-art-grid\", timeout=60000\n",
    "            )\n",
    "\n",
    "            # Give it a little extra time to make sure all games are loaded\n",
    "            await page.wait_for_timeout(2000)\n",
    "\n",
    "            # Get the HTML content\n",
    "            content = await page.content()\n",
    "\n",
    "            # Close the browser\n",
    "            await browser.close()\n",
    "    except Exception as e:\n",
    "        print(f\"Failed to scrape live page: {e}\")\n",
    "        print(\"Falling back to local HTML file: data/full-demo-list-html.txt\")\n",
    "        with open(\"data/full-demo-list-html.txt\", \"r\", encoding=\"utf-8\") as f:\n",
    "            content = f.read()\n",
    "        used_fallback = True\n",
    "\n",
    "    # Parse the HTML with BeautifulSoup\n",
    "    soup = BeautifulSoup(content, \"html.parser\")\n",
    "\n",
    "    # Find all game entries\n",
    "    game_entries = soup.select(\".mix.gt-entry\")\n",
    "    print(\n",
    "        f\"Found {len(game_entries)} games{' (from fallback file)' if used_fallback else ''}\"\n",
    "    )\n",
    "\n",
    "    # Extract information for each game\n",
    "    for entry in game_entries:\n",
    "        link = entry.find(\"a\", class_=\"artist-modal-link\")\n",
    "        if not link:\n",
    "            continue\n",
    "\n",
    "        game_id = entry.get(\"id\")\n",
    "        game_name = entry.get(\"data-name\", \"\").replace(\"-\", \" \")\n",
    "\n",
    "        # Get the actual title from the element\n",
    "        title_elem = entry.select_one(\".gtSpecial-title\")\n",
    "        title = title_elem.text if title_elem else game_name\n",
    "\n",
    "        # Get company/exhibitor info\n",
    "        company_elem = entry.select_one(\".gtSpecial-company-booth\")\n",
    "        company = company_elem.text if company_elem else \"\"\n",
    "\n",
    "        # Get image URL\n",
    "        image_div = entry.select_one(\".gtSpecial-image\")\n",
    "        image_url = \"\"\n",
    "        if image_div:\n",
    "            style = image_div.get(\"style\", \"\")\n",
    "            url_match = re.search(r\"url\\((.*?)\\)\", style)\n",
    "            if url_match:\n",
    "                image_url = url_match.group(1)\n",
    "\n",
    "        # Get exhibitor ID\n",
    "        exhibitor_id = link.get(\"data-exhibitor-id\", \"\")\n",
    "\n",
    "        games.append(\n",
    "            {\n",
    "                \"id\": game_id,\n",
    "                \"name\": title,\n",
    "                \"company\": company,\n",
    "                \"image_url\": image_url,\n",
    "                \"exhibitor_id\": exhibitor_id,\n",
    "            }\n",
    "        )\n",
    "\n",
    "    return games\n",
    "\n",
    "\n",
    "# Run the scraping function\n",
    "games_data = await scrape_expo_hall_demos()\n",
    "\n",
    "# Make the DataFrame\n",
    "games_data_df = pd.DataFrame(games_data)\n",
    "\n",
    "# Add a hash to the games\n",
    "games_data_df[\"paxpal_id\"] = games_data_df[\"name\"].apply(\n",
    "    lambda x: get_consistent_hash(x)\n",
    ")"
   ]
  },
  {
   "cell_type": "markdown",
   "metadata": {},
   "source": [
    "I'll save it below:"
   ]
  },
  {
   "cell_type": "code",
   "execution_count": 9,
   "metadata": {},
   "outputs": [],
   "source": [
    "games_data_df.to_json(\n",
    "    \"data/expo_hall_demos.json\",\n",
    "    orient=\"records\",\n",
    "    indent=4,\n",
    ")"
   ]
  },
  {
   "cell_type": "markdown",
   "metadata": {},
   "source": [
    "If I want to reload it, I can do it below:"
   ]
  },
  {
   "cell_type": "code",
   "execution_count": 10,
   "metadata": {},
   "outputs": [],
   "source": [
    "# Reload the data\n",
    "games_data_df = pd.read_json(\"data/expo_hall_demos.json\")"
   ]
  },
  {
   "cell_type": "markdown",
   "metadata": {},
   "source": [
    "### **OPTIONAL: Removing Pre-Scraped Games**"
   ]
  },
  {
   "cell_type": "code",
   "execution_count": 14,
   "metadata": {},
   "outputs": [
    {
     "name": "stderr",
     "output_type": "stream",
     "text": [
      "/var/folders/p0/6dyp2b_d72z_d772nvm0y6tc0000gn/T/ipykernel_73288/6957235.py:3: FutureWarning: The behavior of 'to_datetime' with 'unit' when parsing strings is deprecated. In a future version, strings will be parsed as datetime strings, matching the behavior without a 'unit'. To retain the old behavior, explicitly cast ints or floats to numeric type before calling to_datetime.\n",
      "  prescraped_games_df = pd.read_json(\"data/final_enriched_games_data.json\")\n",
      "/var/folders/p0/6dyp2b_d72z_d772nvm0y6tc0000gn/T/ipykernel_73288/6957235.py:3: FutureWarning: The behavior of 'to_datetime' with 'unit' when parsing strings is deprecated. In a future version, strings will be parsed as datetime strings, matching the behavior without a 'unit'. To retain the old behavior, explicitly cast ints or floats to numeric type before calling to_datetime.\n",
      "  prescraped_games_df = pd.read_json(\"data/final_enriched_games_data.json\")\n",
      "/var/folders/p0/6dyp2b_d72z_d772nvm0y6tc0000gn/T/ipykernel_73288/6957235.py:3: FutureWarning: The behavior of 'to_datetime' with 'unit' when parsing strings is deprecated. In a future version, strings will be parsed as datetime strings, matching the behavior without a 'unit'. To retain the old behavior, explicitly cast ints or floats to numeric type before calling to_datetime.\n",
      "  prescraped_games_df = pd.read_json(\"data/final_enriched_games_data.json\")\n"
     ]
    }
   ],
   "source": [
    "remove_prescraped_games = True\n",
    "if remove_prescraped_games:\n",
    "    prescraped_games_df = pd.read_json(\"data/final_enriched_games_data.json\")\n",
    "    games_data_df = games_data_df[\n",
    "        ~games_data_df[\"paxpal_id\"].isin(prescraped_games_df[\"id\"].unique())\n",
    "    ]"
   ]
  },
  {
   "cell_type": "markdown",
   "metadata": {},
   "source": [
    "# Grabbing More Details\n",
    "Next up: getting more details about each of the games. "
   ]
  },
  {
   "cell_type": "code",
   "execution_count": 16,
   "metadata": {},
   "outputs": [],
   "source": [
    "async def scrape_single_game_details(game):\n",
    "    \"\"\"\n",
    "    Scrapes detailed information for a single game.\n",
    "\n",
    "    Args:\n",
    "        game: Series containing a single game's information\n",
    "\n",
    "    Returns:\n",
    "        Dictionary containing the game data with modal information\n",
    "    \"\"\"\n",
    "    game_data = game.to_dict()\n",
    "    game_id = game[\"id\"]\n",
    "\n",
    "    try:\n",
    "        async with async_playwright() as p:\n",
    "            # Launch browser\n",
    "            browser = await p.chromium.launch(headless=True)\n",
    "            page = await browser.new_page()\n",
    "\n",
    "            # Navigate to the expo hall demos page\n",
    "            await page.goto(\n",
    "                \"https://east.paxsite.com/en-us/expo-hall/expo-hall-demos.html\"\n",
    "            )\n",
    "\n",
    "            # Wait for the games to load\n",
    "            await page.wait_for_selector(\n",
    "                \".specials-list.gtartists-art-grid\", timeout=10_000\n",
    "            )\n",
    "\n",
    "            # Give it extra time to make sure all games are loaded\n",
    "            await page.wait_for_timeout(10_000)\n",
    "\n",
    "            # Use attribute selector instead of ID selector to handle numeric IDs\n",
    "            selector = f\"[id='{game_id}'] .artist-modal-link\"\n",
    "\n",
    "            # Wait for the element to be visible and click it\n",
    "            await page.wait_for_selector(selector, state=\"visible\", timeout=5_000)\n",
    "            await page.click(selector)\n",
    "\n",
    "            # Wait for the modal to appear and load content\n",
    "            await page.wait_for_selector(\n",
    "                \".modal__container\", state=\"visible\", timeout=5_000\n",
    "            )\n",
    "            await page.wait_for_timeout(5_000)  # Give modal time to load\n",
    "\n",
    "            # Extract information from the modal\n",
    "            modal_content = await page.evaluate(\n",
    "                \"\"\"() => {\n",
    "                const modal = document.querySelector('.modal__container');\n",
    "                if (!modal) return null;\n",
    "                \n",
    "                const title = modal.querySelector('.gtModal-title')?.textContent || '';\n",
    "                const company = modal.querySelector('.gtModal-company')?.textContent || '';\n",
    "                const description = modal.querySelector('.gtModal-desc')?.textContent || '';\n",
    "                \n",
    "                return {\n",
    "                    modal_title: title,\n",
    "                    modal_company: company,\n",
    "                    modal_description: description\n",
    "                };\n",
    "            }\"\"\"\n",
    "            )\n",
    "\n",
    "            if modal_content:\n",
    "                # Add the modal information to the game data\n",
    "                game_data.update(modal_content)\n",
    "\n",
    "            # Close the browser\n",
    "            await browser.close()\n",
    "\n",
    "    except Exception as e:\n",
    "        print(f\"Error processing game {game_id}: {str(e)[:100]}...\")\n",
    "        # Return the game data without modal information\n",
    "\n",
    "    return game_data\n",
    "\n",
    "\n",
    "async def scrape_game_details(games_df):\n",
    "    \"\"\"\n",
    "    Scrapes detailed information from the modal for each game in the DataFrame.\n",
    "\n",
    "    Args:\n",
    "        games_df: DataFrame containing game information with exhibitor_id\n",
    "\n",
    "    Returns:\n",
    "        DataFrame with additional details from the modals\n",
    "    \"\"\"\n",
    "\n",
    "    # Process each game individually and collect results\n",
    "    detailed_games = []\n",
    "\n",
    "    # Use tqdm for progress tracking\n",
    "    for idx, game in tqdm(\n",
    "        games_df.iterrows(), total=len(games_df), desc=\"Scraping game details\"\n",
    "    ):\n",
    "        game_data = await scrape_single_game_details(game)\n",
    "        detailed_games.append(game_data)\n",
    "\n",
    "        # Wait between requests to avoid overloading the server\n",
    "        await asyncio.sleep(5)\n",
    "\n",
    "    return pd.DataFrame(detailed_games)"
   ]
  },
  {
   "cell_type": "markdown",
   "metadata": {},
   "source": [
    "With these methods in hand, I'll run them below:"
   ]
  },
  {
   "cell_type": "code",
   "execution_count": 17,
   "metadata": {},
   "outputs": [
    {
     "data": {
      "application/vnd.jupyter.widget-view+json": {
       "model_id": "af91da2c7c7b460b81b53e1a7d30179d",
       "version_major": 2,
       "version_minor": 0
      },
      "text/plain": [
       "Scraping game details:   0%|          | 0/16 [00:00<?, ?it/s]"
      ]
     },
     "metadata": {},
     "output_type": "display_data"
    }
   ],
   "source": [
    "# Scrape detailed information for each game\n",
    "detailed_games_df = await scrape_game_details(games_data_df)"
   ]
  },
  {
   "cell_type": "markdown",
   "metadata": {},
   "source": [
    "If the user removed prescraped games, I'll add them back below:"
   ]
  },
  {
   "cell_type": "code",
   "execution_count": 24,
   "metadata": {},
   "outputs": [],
   "source": [
    "if remove_prescraped_games:\n",
    "\n",
    "    other_detailed_games_df = pd.read_json(\"data/expo_hall_demos_detailed.json\")\n",
    "    other_detailed_games_df[\"paxpal_id\"] = other_detailed_games_df[\"name\"].apply(\n",
    "        lambda x: get_consistent_hash(x)\n",
    "    )\n",
    "    detailed_games_df = detailed_games_df[\n",
    "        ~detailed_games_df[\"paxpal_id\"].isin(other_detailed_games_df[\"paxpal_id\"])\n",
    "    ]\n",
    "\n",
    "    detailed_games_df = pd.concat(\n",
    "        [detailed_games_df, other_detailed_games_df], ignore_index=True\n",
    "    )"
   ]
  },
  {
   "cell_type": "markdown",
   "metadata": {},
   "source": [
    "Below, I'll save the data:"
   ]
  },
  {
   "cell_type": "code",
   "execution_count": 26,
   "metadata": {},
   "outputs": [],
   "source": [
    "detailed_games_df.dropna(subset=[\"modal_description\"]).to_json(\n",
    "    \"data/expo_hall_demos_detailed.json\",\n",
    "    orient=\"records\",\n",
    "    indent=4,\n",
    ")"
   ]
  },
  {
   "cell_type": "code",
   "execution_count": null,
   "metadata": {},
   "outputs": [],
   "source": []
  }
 ],
 "metadata": {
  "kernelspec": {
   "display_name": ".venv",
   "language": "python",
   "name": "python3"
  },
  "language_info": {
   "codemirror_mode": {
    "name": "ipython",
    "version": 3
   },
   "file_extension": ".py",
   "mimetype": "text/x-python",
   "name": "python",
   "nbconvert_exporter": "python",
   "pygments_lexer": "ipython3",
   "version": "3.12.7"
  }
 },
 "nbformat": 4,
 "nbformat_minor": 2
}
